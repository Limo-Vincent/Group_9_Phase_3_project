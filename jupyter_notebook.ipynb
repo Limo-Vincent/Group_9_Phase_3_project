{
 "cells": [
  {
   "cell_type": "markdown",
   "metadata": {},
   "source": [
    "## 1.0 Business Understanding\n"
   ]
  },
  {
   "cell_type": "markdown",
   "metadata": {},
   "source": [
    "#### 1.1 Business Overview  \n",
    "Customer churn, where subscribers discontinue services or switch to competitors, is a major challenge in the telecom industry. A [2024 study by Alisha Sikri and colleagues](https://www.nature.com/articles/s41598-024-63750-0), published in Scientific Reports emphasizes that retaining existing customers is more cost-effective than acquiring new ones, making churn prediction a strategic priority.  \n",
    "\n",
    "Syriatel, one of Syria’s largest telecom providers with over 6 million active customers and a 55% market share, faces rising churn despite strong coverage and service reliability. This project leverages machine learning to predict at-risk customers, enabling proactive retention strategies that improve loyalty, optimize resources, and sustain profitability.  \n"
   ]
  },
  {
   "cell_type": "markdown",
   "metadata": {},
   "source": [
    "#### 1.2 Business Problem\n",
    "\n",
    "Syriatel is struggling with rising customer churn, which threatens its revenue and market position. The company lacks a clear way to know customers that are likely to leave. Without timely insights, Syriatel risks losing more customers to competitors and incurring higher costs to replace them. Developing a predictive solution is critical to identify at-risk customers early and take proactive steps to retain them.  \n"
   ]
  },
  {
   "cell_type": "markdown",
   "metadata": {},
   "source": [
    "#### 1.3 Business Objectives\n",
    "\n",
    "Main Objective\n",
    "\n",
    "To build a machine learning model that accurately predicts whether a customer is likely to churn.\n",
    "\n",
    "Specific Objectives\n",
    "\n",
    "1. To determine how customer demographics influence churn.  \n",
    "2. To examine the effect of service usage on churn.  \n",
    "3. To analyze the impact of financial factors on churn.  \n",
    "4. To identify behavioral indicators that signal potential churn.  \n",
    "5. To segment customers and assess which groups are most at risk of churning.  \n",
    "\n",
    "Research Questions  \n",
    "1. How do customer demographics influence churn?  \n",
    "2. Does service usage affect the likelihood of churn?  \n",
    "3. How do financial factors such as billing and payment methods relate to churn?  \n",
    "4. What behavioral indicators can signal potential churn?  \n",
    "5. Which customer segments are most at risk of churning?  \n",
    "\n"
   ]
  }
 ],
 "metadata": {
  "kernelspec": {
   "display_name": "Python 3",
   "language": "python",
   "name": "python3"
  },
  "language_info": {
   "codemirror_mode": {
    "name": "ipython",
    "version": 3
   },
   "file_extension": ".py",
   "mimetype": "text/x-python",
   "name": "python",
   "nbconvert_exporter": "python",
   "pygments_lexer": "ipython3",
   "version": "3.8.5"
  }
 },
 "nbformat": 4,
 "nbformat_minor": 4
}
