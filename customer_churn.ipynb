{
 "cells": [
  {
   "cell_type": "markdown",
   "id": "dbb85fd5",
   "metadata": {},
   "source": [
    "# THE SYRIATEL CUSTOMER CHURN ANALYSIS"
   ]
  },
  {
   "cell_type": "markdown",
   "id": "963e10da",
   "metadata": {},
   "source": [
    "## 1.0 BUSINESS UNDERSTANDING"
   ]
  },
  {
   "cell_type": "markdown",
   "id": "efb81188",
   "metadata": {},
   "source": [
    "\n",
    "### 1.1 Business Overview\n",
    "Customer churn is the process where clients discontinue their relationship with a company or brand. In the telecom sector, this occurs when subscribers cancel their services with one provider and either switch to a competitor or stop using the service entirely. To combat rising churn and growing competition, an insight by [Mckinsey $ Company](https://www.mckinsey.com/industries/technology-media-and-telecommunications/our-insights/reducing-churn-in-telecom-through-advanced-analytics) urges telecoms to capitalize on analytical insights immediately.\n",
    "\n",
    "Also a [2024 study by Alisha Sikri and colleagues](https://www.nature.com/articles/s41598-024-63750-0) research article, published in Scientific Reports emphasizes the significance of retaining existing customers over acquiring new ones. This project aims to predict potential churners, by leveraging machine learning algorithms allowing telecom companies to implement effective retention strategies."
   ]
  },
  {
   "cell_type": "markdown",
   "id": "6b44ecb0",
   "metadata": {},
   "source": [
    "### 1.2 Business Problem\n",
    "SyriaTel faces the issue of customer churn, where subscribers cancel their services or switch to competitors. High churn rates can result in significant revenue loss, increased costs to attract new customers, and reduced market share. The company needs to understand which customers are at risk of leaving and identify patterns in their behavior to mitigate these losses effectively."
   ]
  },
  {
   "cell_type": "markdown",
   "id": "619b1f5f",
   "metadata": {},
   "source": [
    "#### 1.3 Business Objectives\n",
    "\n",
    "Main Objective\n",
    "\n",
    "To build a machine learning model that accurately predicts whether a customer is likely to churn.\n",
    "\n",
    "Specific Objectives\n",
    "\n",
    " - To analyze the impact of customer demographics  on churn.\n",
    "\n",
    " - To examine the effect of account details  on churn.\n",
    "\n",
    " - To assess how subscription plans influence churn.\n",
    "\n",
    " - To explore how customer service call frequency relates to churn.\n",
    "\n",
    " - To Develop a predictive model to identify customers at risk of churning based on these factors.\n",
    " \n",
    "\n",
    "Key Questions\n",
    "\n",
    "1. How do customer demographics  affect churn?\n",
    "\n",
    "2. How do account details  influence churn?\n",
    "\n",
    "3. How do subscription plans impact churn?\n",
    "\n",
    "4. How does the frequency of customer service calls relate to churn?\n",
    "\n",
    "5. Can a predictive model accurately identify customers at risk of churning based on these factors?"
   ]
  },
  {
   "cell_type": "markdown",
   "id": "9a760b89",
   "metadata": {},
   "source": [
    "### 1.4 Success criteria\n",
    "1. A reliable classification model that can correctly predict customer churn and provide actionable insights for SyriaTel.\n",
    "\n",
    "2. The model identifies the most important features that explain why customers churn.\n",
    "\n",
    "3. The findings can be translated into clear, recommendations that SyriaTel can act on to reduce churn."
   ]
  },
  {
   "cell_type": "markdown",
   "id": "de8dab46",
   "metadata": {},
   "source": [
    "## 2.0 DATA UNDERSTANDING\n",
    "\n",
    "The dataset is obtained from Kaggle, specifically from the dataset [Churn in Telecom's dataset](https://www.kaggle.com/datasets/becksddf/churn-in-telecoms-dataset).\n",
    "\n",
    "The dataset has 3333 records and 21 columns including numeric, categorical, and boolean variables.The target variable `churn`  indicates whether a customer has left the service (False) or remained (True).\n"
   ]
  },
  {
   "cell_type": "markdown",
   "id": "52db3b11",
   "metadata": {},
   "source": [
    "### 2.1 Load Dataset\n",
    "1. Import necessary libraries.\n",
    "2. Load dataset"
   ]
  },
  {
   "cell_type": "code",
   "execution_count": 1,
   "id": "71f7834a",
   "metadata": {},
   "outputs": [],
   "source": [
    "# Import necessary libraries\n",
    "\n",
    "# Data loading and manipulation\n",
    "import pandas as pd\n",
    "import numpy as np\n",
    "\n",
    "# Data visualization\n",
    "import matplotlib.pyplot as plt\n",
    "import seaborn as sns\n",
    "%matplotlib inline\n",
    "\n",
    "# Data preprocessing\n",
    "from sklearn.model_selection import train_test_split, GridSearchCV, cross_val_score\n",
    "from sklearn.preprocessing import StandardScaler, LabelEncoder, OneHotEncoder, MinMaxScaler\n",
    "from imblearn.over_sampling import SMOTE\n",
    "\n",
    "# Machine learning models\n",
    "from sklearn.linear_model import LogisticRegression\n",
    "from sklearn.tree import DecisionTreeClassifier\n",
    "from sklearn.ensemble import RandomForestClassifier, GradientBoostingClassifier\n",
    "from sklearn.neighbors import KNeighborsClassifier\n",
    "\n",
    "# Model evaluation\n",
    "from sklearn.metrics import accuracy_score, f1_score, precision_score, recall_score, roc_auc_score, roc_curve, classification_report, confusion_matrix, ConfusionMatrixDisplay, auc, RocCurveDisplay\n",
    "\n",
    "# Ignore warnings\n",
    "import warnings\n",
    "warnings.filterwarnings(\"ignore\")\n",
    "\n"
   ]
  },
  {
   "cell_type": "code",
   "execution_count": 2,
   "id": "6c528add",
   "metadata": {},
   "outputs": [
    {
     "data": {
      "text/html": [
       "<div>\n",
       "<style scoped>\n",
       "    .dataframe tbody tr th:only-of-type {\n",
       "        vertical-align: middle;\n",
       "    }\n",
       "\n",
       "    .dataframe tbody tr th {\n",
       "        vertical-align: top;\n",
       "    }\n",
       "\n",
       "    .dataframe thead th {\n",
       "        text-align: right;\n",
       "    }\n",
       "</style>\n",
       "<table border=\"1\" class=\"dataframe\">\n",
       "  <thead>\n",
       "    <tr style=\"text-align: right;\">\n",
       "      <th></th>\n",
       "      <th>state</th>\n",
       "      <th>account length</th>\n",
       "      <th>area code</th>\n",
       "      <th>phone number</th>\n",
       "      <th>international plan</th>\n",
       "      <th>voice mail plan</th>\n",
       "      <th>number vmail messages</th>\n",
       "      <th>total day minutes</th>\n",
       "      <th>total day calls</th>\n",
       "      <th>total day charge</th>\n",
       "      <th>...</th>\n",
       "      <th>total eve calls</th>\n",
       "      <th>total eve charge</th>\n",
       "      <th>total night minutes</th>\n",
       "      <th>total night calls</th>\n",
       "      <th>total night charge</th>\n",
       "      <th>total intl minutes</th>\n",
       "      <th>total intl calls</th>\n",
       "      <th>total intl charge</th>\n",
       "      <th>customer service calls</th>\n",
       "      <th>churn</th>\n",
       "    </tr>\n",
       "  </thead>\n",
       "  <tbody>\n",
       "    <tr>\n",
       "      <th>0</th>\n",
       "      <td>KS</td>\n",
       "      <td>128</td>\n",
       "      <td>415</td>\n",
       "      <td>382-4657</td>\n",
       "      <td>no</td>\n",
       "      <td>yes</td>\n",
       "      <td>25</td>\n",
       "      <td>265.1</td>\n",
       "      <td>110</td>\n",
       "      <td>45.07</td>\n",
       "      <td>...</td>\n",
       "      <td>99</td>\n",
       "      <td>16.78</td>\n",
       "      <td>244.7</td>\n",
       "      <td>91</td>\n",
       "      <td>11.01</td>\n",
       "      <td>10.0</td>\n",
       "      <td>3</td>\n",
       "      <td>2.70</td>\n",
       "      <td>1</td>\n",
       "      <td>False</td>\n",
       "    </tr>\n",
       "    <tr>\n",
       "      <th>1</th>\n",
       "      <td>OH</td>\n",
       "      <td>107</td>\n",
       "      <td>415</td>\n",
       "      <td>371-7191</td>\n",
       "      <td>no</td>\n",
       "      <td>yes</td>\n",
       "      <td>26</td>\n",
       "      <td>161.6</td>\n",
       "      <td>123</td>\n",
       "      <td>27.47</td>\n",
       "      <td>...</td>\n",
       "      <td>103</td>\n",
       "      <td>16.62</td>\n",
       "      <td>254.4</td>\n",
       "      <td>103</td>\n",
       "      <td>11.45</td>\n",
       "      <td>13.7</td>\n",
       "      <td>3</td>\n",
       "      <td>3.70</td>\n",
       "      <td>1</td>\n",
       "      <td>False</td>\n",
       "    </tr>\n",
       "    <tr>\n",
       "      <th>2</th>\n",
       "      <td>NJ</td>\n",
       "      <td>137</td>\n",
       "      <td>415</td>\n",
       "      <td>358-1921</td>\n",
       "      <td>no</td>\n",
       "      <td>no</td>\n",
       "      <td>0</td>\n",
       "      <td>243.4</td>\n",
       "      <td>114</td>\n",
       "      <td>41.38</td>\n",
       "      <td>...</td>\n",
       "      <td>110</td>\n",
       "      <td>10.30</td>\n",
       "      <td>162.6</td>\n",
       "      <td>104</td>\n",
       "      <td>7.32</td>\n",
       "      <td>12.2</td>\n",
       "      <td>5</td>\n",
       "      <td>3.29</td>\n",
       "      <td>0</td>\n",
       "      <td>False</td>\n",
       "    </tr>\n",
       "    <tr>\n",
       "      <th>3</th>\n",
       "      <td>OH</td>\n",
       "      <td>84</td>\n",
       "      <td>408</td>\n",
       "      <td>375-9999</td>\n",
       "      <td>yes</td>\n",
       "      <td>no</td>\n",
       "      <td>0</td>\n",
       "      <td>299.4</td>\n",
       "      <td>71</td>\n",
       "      <td>50.90</td>\n",
       "      <td>...</td>\n",
       "      <td>88</td>\n",
       "      <td>5.26</td>\n",
       "      <td>196.9</td>\n",
       "      <td>89</td>\n",
       "      <td>8.86</td>\n",
       "      <td>6.6</td>\n",
       "      <td>7</td>\n",
       "      <td>1.78</td>\n",
       "      <td>2</td>\n",
       "      <td>False</td>\n",
       "    </tr>\n",
       "    <tr>\n",
       "      <th>4</th>\n",
       "      <td>OK</td>\n",
       "      <td>75</td>\n",
       "      <td>415</td>\n",
       "      <td>330-6626</td>\n",
       "      <td>yes</td>\n",
       "      <td>no</td>\n",
       "      <td>0</td>\n",
       "      <td>166.7</td>\n",
       "      <td>113</td>\n",
       "      <td>28.34</td>\n",
       "      <td>...</td>\n",
       "      <td>122</td>\n",
       "      <td>12.61</td>\n",
       "      <td>186.9</td>\n",
       "      <td>121</td>\n",
       "      <td>8.41</td>\n",
       "      <td>10.1</td>\n",
       "      <td>3</td>\n",
       "      <td>2.73</td>\n",
       "      <td>3</td>\n",
       "      <td>False</td>\n",
       "    </tr>\n",
       "  </tbody>\n",
       "</table>\n",
       "<p>5 rows × 21 columns</p>\n",
       "</div>"
      ],
      "text/plain": [
       "  state  account length  area code phone number international plan  \\\n",
       "0    KS             128        415     382-4657                 no   \n",
       "1    OH             107        415     371-7191                 no   \n",
       "2    NJ             137        415     358-1921                 no   \n",
       "3    OH              84        408     375-9999                yes   \n",
       "4    OK              75        415     330-6626                yes   \n",
       "\n",
       "  voice mail plan  number vmail messages  total day minutes  total day calls  \\\n",
       "0             yes                     25              265.1              110   \n",
       "1             yes                     26              161.6              123   \n",
       "2              no                      0              243.4              114   \n",
       "3              no                      0              299.4               71   \n",
       "4              no                      0              166.7              113   \n",
       "\n",
       "   total day charge  ...  total eve calls  total eve charge  \\\n",
       "0             45.07  ...               99             16.78   \n",
       "1             27.47  ...              103             16.62   \n",
       "2             41.38  ...              110             10.30   \n",
       "3             50.90  ...               88              5.26   \n",
       "4             28.34  ...              122             12.61   \n",
       "\n",
       "   total night minutes  total night calls  total night charge  \\\n",
       "0                244.7                 91               11.01   \n",
       "1                254.4                103               11.45   \n",
       "2                162.6                104                7.32   \n",
       "3                196.9                 89                8.86   \n",
       "4                186.9                121                8.41   \n",
       "\n",
       "   total intl minutes  total intl calls  total intl charge  \\\n",
       "0                10.0                 3               2.70   \n",
       "1                13.7                 3               3.70   \n",
       "2                12.2                 5               3.29   \n",
       "3                 6.6                 7               1.78   \n",
       "4                10.1                 3               2.73   \n",
       "\n",
       "   customer service calls  churn  \n",
       "0                       1  False  \n",
       "1                       1  False  \n",
       "2                       0  False  \n",
       "3                       2  False  \n",
       "4                       3  False  \n",
       "\n",
       "[5 rows x 21 columns]"
      ]
     },
     "execution_count": 2,
     "metadata": {},
     "output_type": "execute_result"
    }
   ],
   "source": [
    "# Load dataset \n",
    "data = pd.read_csv(r\"C:\\Users\\USER\\Desktop\\Phase_3\\Group_9_Phase_3_project\\data\\bigml_59c28831336c6604c800002a.csv\")\n",
    "data.head()\n"
   ]
  },
  {
   "cell_type": "markdown",
   "id": "0f4509c5",
   "metadata": {},
   "source": [
    "### 2.2 Dataset Overview"
   ]
  },
  {
   "cell_type": "code",
   "execution_count": 3,
   "id": "82886f28",
   "metadata": {},
   "outputs": [
    {
     "name": "stdout",
     "output_type": "stream",
     "text": [
      "<class 'pandas.core.frame.DataFrame'>\n",
      "RangeIndex: 3333 entries, 0 to 3332\n",
      "Data columns (total 21 columns):\n",
      " #   Column                  Non-Null Count  Dtype  \n",
      "---  ------                  --------------  -----  \n",
      " 0   state                   3333 non-null   object \n",
      " 1   account length          3333 non-null   int64  \n",
      " 2   area code               3333 non-null   int64  \n",
      " 3   phone number            3333 non-null   object \n",
      " 4   international plan      3333 non-null   object \n",
      " 5   voice mail plan         3333 non-null   object \n",
      " 6   number vmail messages   3333 non-null   int64  \n",
      " 7   total day minutes       3333 non-null   float64\n",
      " 8   total day calls         3333 non-null   int64  \n",
      " 9   total day charge        3333 non-null   float64\n",
      " 10  total eve minutes       3333 non-null   float64\n",
      " 11  total eve calls         3333 non-null   int64  \n",
      " 12  total eve charge        3333 non-null   float64\n",
      " 13  total night minutes     3333 non-null   float64\n",
      " 14  total night calls       3333 non-null   int64  \n",
      " 15  total night charge      3333 non-null   float64\n",
      " 16  total intl minutes      3333 non-null   float64\n",
      " 17  total intl calls        3333 non-null   int64  \n",
      " 18  total intl charge       3333 non-null   float64\n",
      " 19  customer service calls  3333 non-null   int64  \n",
      " 20  churn                   3333 non-null   bool   \n",
      "dtypes: bool(1), float64(8), int64(8), object(4)\n",
      "memory usage: 524.2+ KB\n"
     ]
    }
   ],
   "source": [
    "# Summary information about dataset\n",
    "data.info()"
   ]
  },
  {
   "cell_type": "markdown",
   "id": "bc653fd4",
   "metadata": {},
   "source": [
    "The dataset contains 3,333 rows which represent the customers. The data set has 21 columns which are both numeric e.g `total minutes, charges, account length` and categorical e.g `international plan, voicemail plan`. Our Target variable is `churn` column which is boolen."
   ]
  },
  {
   "cell_type": "code",
   "execution_count": 4,
   "id": "11de6131",
   "metadata": {},
   "outputs": [
    {
     "data": {
      "text/plain": [
       "(3333, 21)"
      ]
     },
     "execution_count": 4,
     "metadata": {},
     "output_type": "execute_result"
    }
   ],
   "source": [
    "# Checking for the no. of columns and rows\n",
    "data.shape"
   ]
  },
  {
   "cell_type": "code",
   "execution_count": 5,
   "id": "bd84b098",
   "metadata": {},
   "outputs": [
    {
     "name": "stdout",
     "output_type": "stream",
     "text": [
      "Numerical columns: Index(['account length', 'area code', 'number vmail messages',\n",
      "       'total day minutes', 'total day calls', 'total day charge',\n",
      "       'total eve minutes', 'total eve calls', 'total eve charge',\n",
      "       'total night minutes', 'total night calls', 'total night charge',\n",
      "       'total intl minutes', 'total intl calls', 'total intl charge',\n",
      "       'customer service calls'],\n",
      "      dtype='object')\n",
      "\n",
      "Categorical columns: Index(['state', 'phone number', 'international plan', 'voice mail plan'], dtype='object')\n",
      "\n"
     ]
    }
   ],
   "source": [
    "# Display the numerical and categorical columns\n",
    "print(f\"Numerical columns: {data.select_dtypes(include = 'number').columns}\\n\")\n",
    "print(f\"Categorical columns: {data.select_dtypes(include = 'object').columns}\\n\")"
   ]
  },
  {
   "cell_type": "code",
   "execution_count": 6,
   "id": "08a4d6bb",
   "metadata": {},
   "outputs": [
    {
     "data": {
      "text/plain": [
       "state                     0\n",
       "account length            0\n",
       "area code                 0\n",
       "phone number              0\n",
       "international plan        0\n",
       "voice mail plan           0\n",
       "number vmail messages     0\n",
       "total day minutes         0\n",
       "total day calls           0\n",
       "total day charge          0\n",
       "total eve minutes         0\n",
       "total eve calls           0\n",
       "total eve charge          0\n",
       "total night minutes       0\n",
       "total night calls         0\n",
       "total night charge        0\n",
       "total intl minutes        0\n",
       "total intl calls          0\n",
       "total intl charge         0\n",
       "customer service calls    0\n",
       "churn                     0\n",
       "dtype: int64"
      ]
     },
     "execution_count": 6,
     "metadata": {},
     "output_type": "execute_result"
    }
   ],
   "source": [
    "# Checking for missing values\n",
    "data.isnull().sum()"
   ]
  },
  {
   "cell_type": "code",
   "execution_count": 7,
   "id": "5eddadbe",
   "metadata": {},
   "outputs": [
    {
     "data": {
      "text/plain": [
       "0"
      ]
     },
     "execution_count": 7,
     "metadata": {},
     "output_type": "execute_result"
    }
   ],
   "source": [
    "# Check for duplicate values\n",
    "data.duplicated().sum()"
   ]
  },
  {
   "cell_type": "code",
   "execution_count": 8,
   "id": "9300b2ce",
   "metadata": {},
   "outputs": [
    {
     "data": {
      "text/html": [
       "<div>\n",
       "<style scoped>\n",
       "    .dataframe tbody tr th:only-of-type {\n",
       "        vertical-align: middle;\n",
       "    }\n",
       "\n",
       "    .dataframe tbody tr th {\n",
       "        vertical-align: top;\n",
       "    }\n",
       "\n",
       "    .dataframe thead th {\n",
       "        text-align: right;\n",
       "    }\n",
       "</style>\n",
       "<table border=\"1\" class=\"dataframe\">\n",
       "  <thead>\n",
       "    <tr style=\"text-align: right;\">\n",
       "      <th></th>\n",
       "      <th>account length</th>\n",
       "      <th>area code</th>\n",
       "      <th>number vmail messages</th>\n",
       "      <th>total day minutes</th>\n",
       "      <th>total day calls</th>\n",
       "      <th>total day charge</th>\n",
       "      <th>total eve minutes</th>\n",
       "      <th>total eve calls</th>\n",
       "      <th>total eve charge</th>\n",
       "      <th>total night minutes</th>\n",
       "      <th>total night calls</th>\n",
       "      <th>total night charge</th>\n",
       "      <th>total intl minutes</th>\n",
       "      <th>total intl calls</th>\n",
       "      <th>total intl charge</th>\n",
       "      <th>customer service calls</th>\n",
       "    </tr>\n",
       "  </thead>\n",
       "  <tbody>\n",
       "    <tr>\n",
       "      <th>count</th>\n",
       "      <td>3333.000000</td>\n",
       "      <td>3333.000000</td>\n",
       "      <td>3333.000000</td>\n",
       "      <td>3333.000000</td>\n",
       "      <td>3333.000000</td>\n",
       "      <td>3333.000000</td>\n",
       "      <td>3333.000000</td>\n",
       "      <td>3333.000000</td>\n",
       "      <td>3333.000000</td>\n",
       "      <td>3333.000000</td>\n",
       "      <td>3333.000000</td>\n",
       "      <td>3333.000000</td>\n",
       "      <td>3333.000000</td>\n",
       "      <td>3333.000000</td>\n",
       "      <td>3333.000000</td>\n",
       "      <td>3333.000000</td>\n",
       "    </tr>\n",
       "    <tr>\n",
       "      <th>mean</th>\n",
       "      <td>101.064806</td>\n",
       "      <td>437.182418</td>\n",
       "      <td>8.099010</td>\n",
       "      <td>179.775098</td>\n",
       "      <td>100.435644</td>\n",
       "      <td>30.562307</td>\n",
       "      <td>200.980348</td>\n",
       "      <td>100.114311</td>\n",
       "      <td>17.083540</td>\n",
       "      <td>200.872037</td>\n",
       "      <td>100.107711</td>\n",
       "      <td>9.039325</td>\n",
       "      <td>10.237294</td>\n",
       "      <td>4.479448</td>\n",
       "      <td>2.764581</td>\n",
       "      <td>1.562856</td>\n",
       "    </tr>\n",
       "    <tr>\n",
       "      <th>std</th>\n",
       "      <td>39.822106</td>\n",
       "      <td>42.371290</td>\n",
       "      <td>13.688365</td>\n",
       "      <td>54.467389</td>\n",
       "      <td>20.069084</td>\n",
       "      <td>9.259435</td>\n",
       "      <td>50.713844</td>\n",
       "      <td>19.922625</td>\n",
       "      <td>4.310668</td>\n",
       "      <td>50.573847</td>\n",
       "      <td>19.568609</td>\n",
       "      <td>2.275873</td>\n",
       "      <td>2.791840</td>\n",
       "      <td>2.461214</td>\n",
       "      <td>0.753773</td>\n",
       "      <td>1.315491</td>\n",
       "    </tr>\n",
       "    <tr>\n",
       "      <th>min</th>\n",
       "      <td>1.000000</td>\n",
       "      <td>408.000000</td>\n",
       "      <td>0.000000</td>\n",
       "      <td>0.000000</td>\n",
       "      <td>0.000000</td>\n",
       "      <td>0.000000</td>\n",
       "      <td>0.000000</td>\n",
       "      <td>0.000000</td>\n",
       "      <td>0.000000</td>\n",
       "      <td>23.200000</td>\n",
       "      <td>33.000000</td>\n",
       "      <td>1.040000</td>\n",
       "      <td>0.000000</td>\n",
       "      <td>0.000000</td>\n",
       "      <td>0.000000</td>\n",
       "      <td>0.000000</td>\n",
       "    </tr>\n",
       "    <tr>\n",
       "      <th>25%</th>\n",
       "      <td>74.000000</td>\n",
       "      <td>408.000000</td>\n",
       "      <td>0.000000</td>\n",
       "      <td>143.700000</td>\n",
       "      <td>87.000000</td>\n",
       "      <td>24.430000</td>\n",
       "      <td>166.600000</td>\n",
       "      <td>87.000000</td>\n",
       "      <td>14.160000</td>\n",
       "      <td>167.000000</td>\n",
       "      <td>87.000000</td>\n",
       "      <td>7.520000</td>\n",
       "      <td>8.500000</td>\n",
       "      <td>3.000000</td>\n",
       "      <td>2.300000</td>\n",
       "      <td>1.000000</td>\n",
       "    </tr>\n",
       "    <tr>\n",
       "      <th>50%</th>\n",
       "      <td>101.000000</td>\n",
       "      <td>415.000000</td>\n",
       "      <td>0.000000</td>\n",
       "      <td>179.400000</td>\n",
       "      <td>101.000000</td>\n",
       "      <td>30.500000</td>\n",
       "      <td>201.400000</td>\n",
       "      <td>100.000000</td>\n",
       "      <td>17.120000</td>\n",
       "      <td>201.200000</td>\n",
       "      <td>100.000000</td>\n",
       "      <td>9.050000</td>\n",
       "      <td>10.300000</td>\n",
       "      <td>4.000000</td>\n",
       "      <td>2.780000</td>\n",
       "      <td>1.000000</td>\n",
       "    </tr>\n",
       "    <tr>\n",
       "      <th>75%</th>\n",
       "      <td>127.000000</td>\n",
       "      <td>510.000000</td>\n",
       "      <td>20.000000</td>\n",
       "      <td>216.400000</td>\n",
       "      <td>114.000000</td>\n",
       "      <td>36.790000</td>\n",
       "      <td>235.300000</td>\n",
       "      <td>114.000000</td>\n",
       "      <td>20.000000</td>\n",
       "      <td>235.300000</td>\n",
       "      <td>113.000000</td>\n",
       "      <td>10.590000</td>\n",
       "      <td>12.100000</td>\n",
       "      <td>6.000000</td>\n",
       "      <td>3.270000</td>\n",
       "      <td>2.000000</td>\n",
       "    </tr>\n",
       "    <tr>\n",
       "      <th>max</th>\n",
       "      <td>243.000000</td>\n",
       "      <td>510.000000</td>\n",
       "      <td>51.000000</td>\n",
       "      <td>350.800000</td>\n",
       "      <td>165.000000</td>\n",
       "      <td>59.640000</td>\n",
       "      <td>363.700000</td>\n",
       "      <td>170.000000</td>\n",
       "      <td>30.910000</td>\n",
       "      <td>395.000000</td>\n",
       "      <td>175.000000</td>\n",
       "      <td>17.770000</td>\n",
       "      <td>20.000000</td>\n",
       "      <td>20.000000</td>\n",
       "      <td>5.400000</td>\n",
       "      <td>9.000000</td>\n",
       "    </tr>\n",
       "  </tbody>\n",
       "</table>\n",
       "</div>"
      ],
      "text/plain": [
       "       account length    area code  number vmail messages  total day minutes  \\\n",
       "count     3333.000000  3333.000000            3333.000000        3333.000000   \n",
       "mean       101.064806   437.182418               8.099010         179.775098   \n",
       "std         39.822106    42.371290              13.688365          54.467389   \n",
       "min          1.000000   408.000000               0.000000           0.000000   \n",
       "25%         74.000000   408.000000               0.000000         143.700000   \n",
       "50%        101.000000   415.000000               0.000000         179.400000   \n",
       "75%        127.000000   510.000000              20.000000         216.400000   \n",
       "max        243.000000   510.000000              51.000000         350.800000   \n",
       "\n",
       "       total day calls  total day charge  total eve minutes  total eve calls  \\\n",
       "count      3333.000000       3333.000000        3333.000000      3333.000000   \n",
       "mean        100.435644         30.562307         200.980348       100.114311   \n",
       "std          20.069084          9.259435          50.713844        19.922625   \n",
       "min           0.000000          0.000000           0.000000         0.000000   \n",
       "25%          87.000000         24.430000         166.600000        87.000000   \n",
       "50%         101.000000         30.500000         201.400000       100.000000   \n",
       "75%         114.000000         36.790000         235.300000       114.000000   \n",
       "max         165.000000         59.640000         363.700000       170.000000   \n",
       "\n",
       "       total eve charge  total night minutes  total night calls  \\\n",
       "count       3333.000000          3333.000000        3333.000000   \n",
       "mean          17.083540           200.872037         100.107711   \n",
       "std            4.310668            50.573847          19.568609   \n",
       "min            0.000000            23.200000          33.000000   \n",
       "25%           14.160000           167.000000          87.000000   \n",
       "50%           17.120000           201.200000         100.000000   \n",
       "75%           20.000000           235.300000         113.000000   \n",
       "max           30.910000           395.000000         175.000000   \n",
       "\n",
       "       total night charge  total intl minutes  total intl calls  \\\n",
       "count         3333.000000         3333.000000       3333.000000   \n",
       "mean             9.039325           10.237294          4.479448   \n",
       "std              2.275873            2.791840          2.461214   \n",
       "min              1.040000            0.000000          0.000000   \n",
       "25%              7.520000            8.500000          3.000000   \n",
       "50%              9.050000           10.300000          4.000000   \n",
       "75%             10.590000           12.100000          6.000000   \n",
       "max             17.770000           20.000000         20.000000   \n",
       "\n",
       "       total intl charge  customer service calls  \n",
       "count        3333.000000             3333.000000  \n",
       "mean            2.764581                1.562856  \n",
       "std             0.753773                1.315491  \n",
       "min             0.000000                0.000000  \n",
       "25%             2.300000                1.000000  \n",
       "50%             2.780000                1.000000  \n",
       "75%             3.270000                2.000000  \n",
       "max             5.400000                9.000000  "
      ]
     },
     "execution_count": 8,
     "metadata": {},
     "output_type": "execute_result"
    }
   ],
   "source": [
    "# Statistical summary of the dataset\n",
    "data.describe()"
   ]
  },
  {
   "cell_type": "markdown",
   "id": "3ddba630",
   "metadata": {},
   "source": [
    "## 3.0 DATA PREPARATION\n",
    "In this section, we will look into data cleaning, Exploratory Data Analysis (EDA) and data preprocessing for our dataset."
   ]
  },
  {
   "cell_type": "markdown",
   "id": "ff52cb20",
   "metadata": {},
   "source": [
    "### 3.1 Data Cleaning\n",
    "Data cleaning is a crucial step to prepare the dataset for reliable analysis and modeling. The goal is to remove inconsistencies, handle missing, handle duplicate values, and standardize formats so that the data is accurate, consistent and ready for further exploration."
   ]
  },
  {
   "cell_type": "markdown",
   "id": "c3f783da",
   "metadata": {},
   "source": [
    "#### 3.1.1 Dropping Irrelevant Features"
   ]
  },
  {
   "cell_type": "markdown",
   "id": "67324aa1",
   "metadata": {},
   "source": [
    "We begin by dropping `phone number` since it is a unique identifier so it does not carry predictive information about whether a customer will churn or not."
   ]
  },
  {
   "cell_type": "code",
   "execution_count": 9,
   "id": "da08466b",
   "metadata": {},
   "outputs": [
    {
     "data": {
      "text/plain": [
       "(3333, 20)"
      ]
     },
     "execution_count": 9,
     "metadata": {},
     "output_type": "execute_result"
    }
   ],
   "source": [
    "# Drop unecessary columns\n",
    "# Drop the phone_number column\n",
    "\n",
    "data = data.drop(columns = [\"phone number\"])\n",
    "\n",
    "data.shape # Check the dataset shape after dropping the column"
   ]
  },
  {
   "cell_type": "markdown",
   "id": "76653cb5",
   "metadata": {},
   "source": [
    "#### 3.1.2 Validation of categorical columns"
   ]
  },
  {
   "cell_type": "markdown",
   "id": "ecca5da7",
   "metadata": {},
   "source": [
    "To validate the dataset, the unique values of categorical columns were examined. This step ensures that categories contain only expected and consistent entries."
   ]
  },
  {
   "cell_type": "code",
   "execution_count": 10,
   "id": "d771cb18",
   "metadata": {},
   "outputs": [
    {
     "name": "stdout",
     "output_type": "stream",
     "text": [
      "state: ['KS' 'OH' 'NJ' 'OK' 'AL' 'MA' 'MO' 'LA' 'WV' 'IN' 'RI' 'IA' 'MT' 'NY'\n",
      " 'ID' 'VT' 'VA' 'TX' 'FL' 'CO' 'AZ' 'SC' 'NE' 'WY' 'HI' 'IL' 'NH' 'GA'\n",
      " 'AK' 'MD' 'AR' 'WI' 'OR' 'MI' 'DE' 'UT' 'CA' 'MN' 'SD' 'NC' 'WA' 'NM'\n",
      " 'NV' 'DC' 'KY' 'ME' 'MS' 'TN' 'PA' 'CT' 'ND']\n",
      "\n",
      "international plan: ['no' 'yes']\n",
      "\n",
      "voice mail plan: ['yes' 'no']\n",
      "\n"
     ]
    }
   ],
   "source": [
    "# Checking for unique values in categorical columns\n",
    "categorical_cols = data.select_dtypes(include = \"object\").columns\n",
    "for col in categorical_cols:\n",
    "    print(f\"{col}: {data[col].unique()}\\n\")\n"
   ]
  },
  {
   "cell_type": "markdown",
   "id": "42aa8ffb",
   "metadata": {},
   "source": [
    "`state` values were confirmed to be valid 2-letter state abbreviations. `international plan` values, were consistent with only \"yes\" and \"no\". `voice mail plan`  values, were also consistent with only \"yes\" and \"no\"."
   ]
  },
  {
   "cell_type": "markdown",
   "id": "e7665969",
   "metadata": {},
   "source": [
    "#### 3.1.3 Standardizing Categorical Values"
   ]
  },
  {
   "cell_type": "markdown",
   "id": "34d21aff",
   "metadata": {},
   "source": [
    "To ensure consistency, we standardize the text in categorical columns by converting them to lowercase and removing any leading or trailing spaces. "
   ]
  },
  {
   "cell_type": "code",
   "execution_count": 11,
   "id": "91763d99",
   "metadata": {},
   "outputs": [
    {
     "name": "stdout",
     "output_type": "stream",
     "text": [
      "state: ['KS' 'OH' 'NJ' 'OK' 'AL' 'MA' 'MO' 'LA' 'WV' 'IN' 'RI' 'IA' 'MT' 'NY'\n",
      " 'ID' 'VT' 'VA' 'TX' 'FL' 'CO' 'AZ' 'SC' 'NE' 'WY' 'HI' 'IL' 'NH' 'GA'\n",
      " 'AK' 'MD' 'AR' 'WI' 'OR' 'MI' 'DE' 'UT' 'CA' 'MN' 'SD' 'NC' 'WA' 'NM'\n",
      " 'NV' 'DC' 'KY' 'ME' 'MS' 'TN' 'PA' 'CT' 'ND']\n",
      "\n",
      "international plan: ['no' 'yes']\n",
      "\n",
      "voice mail plan: ['yes' 'no']\n",
      "\n"
     ]
    }
   ],
   "source": [
    "# Ensure uniformity in categorical columns - remove extra spaces, lowercase\n",
    "\n",
    "data['international plan'] = data['international plan'].str.lower().str.strip()\n",
    "data['voice mail plan'] = data['voice mail plan'].str.lower().str.strip()\n",
    "\n",
    "# Standardize state codes - remove extra spaces, uppercase\n",
    "data['state'] = data['state'].str.upper().str.strip()\n",
    "\n",
    "for col in categorical_cols:\n",
    "    print(f\"{col}: {data[col].unique()}\\n\")"
   ]
  },
  {
   "cell_type": "markdown",
   "id": "5d123c84",
   "metadata": {},
   "source": [
    "#### 3.1.4 Standardizing Column Names"
   ]
  },
  {
   "cell_type": "markdown",
   "id": "6b760bc5",
   "metadata": {},
   "source": [
    "We reformat the column names for better readability and to make them easier to work with in code by converting them to lowercase and replacing spaces with underscores."
   ]
  },
  {
   "cell_type": "code",
   "execution_count": 12,
   "id": "86a86aa5",
   "metadata": {},
   "outputs": [
    {
     "name": "stdout",
     "output_type": "stream",
     "text": [
      "Index(['state', 'account_length', 'area_code', 'international_plan',\n",
      "       'voice_mail_plan', 'number_vmail_messages', 'total_day_minutes',\n",
      "       'total_day_calls', 'total_day_charge', 'total_eve_minutes',\n",
      "       'total_eve_calls', 'total_eve_charge', 'total_night_minutes',\n",
      "       'total_night_calls', 'total_night_charge', 'total_intl_minutes',\n",
      "       'total_intl_calls', 'total_intl_charge', 'customer_service_calls',\n",
      "       'churn'],\n",
      "      dtype='object')\n"
     ]
    }
   ],
   "source": [
    "# Convert spaces to underscores and lowercase.\n",
    "data.columns = data.columns.str.strip().str.lower().str.replace(' ', '_')\n",
    "print(data.columns)"
   ]
  },
  {
   "cell_type": "markdown",
   "id": "b3614ae6",
   "metadata": {},
   "source": [
    "#### 3.1.5 Handling missing values"
   ]
  },
  {
   "cell_type": "markdown",
   "id": "645186db",
   "metadata": {},
   "source": [
    "We check for missing values in the dataset."
   ]
  },
  {
   "cell_type": "code",
   "execution_count": 13,
   "id": "87009fd3",
   "metadata": {},
   "outputs": [
    {
     "data": {
      "text/plain": [
       "state                     0\n",
       "account_length            0\n",
       "area_code                 0\n",
       "international_plan        0\n",
       "voice_mail_plan           0\n",
       "number_vmail_messages     0\n",
       "total_day_minutes         0\n",
       "total_day_calls           0\n",
       "total_day_charge          0\n",
       "total_eve_minutes         0\n",
       "total_eve_calls           0\n",
       "total_eve_charge          0\n",
       "total_night_minutes       0\n",
       "total_night_calls         0\n",
       "total_night_charge        0\n",
       "total_intl_minutes        0\n",
       "total_intl_calls          0\n",
       "total_intl_charge         0\n",
       "customer_service_calls    0\n",
       "churn                     0\n",
       "dtype: int64"
      ]
     },
     "execution_count": 13,
     "metadata": {},
     "output_type": "execute_result"
    }
   ],
   "source": [
    "# Check for missing values\n",
    "data.isnull().sum()"
   ]
  },
  {
   "cell_type": "markdown",
   "id": "a22b4714",
   "metadata": {},
   "source": [
    "No missing values in the dataset hence no need to handle any missing values."
   ]
  },
  {
   "cell_type": "markdown",
   "id": "95ccfe07",
   "metadata": {},
   "source": [
    "#### 3.1.6 Checking duplicates"
   ]
  },
  {
   "cell_type": "markdown",
   "id": "8119a3a6",
   "metadata": {},
   "source": [
    "We check for and remove any completely identical duplicate rows to prevent them from influencing the model training."
   ]
  },
  {
   "cell_type": "code",
   "execution_count": 14,
   "id": "df5128dc",
   "metadata": {},
   "outputs": [
    {
     "data": {
      "text/plain": [
       "0"
      ]
     },
     "execution_count": 14,
     "metadata": {},
     "output_type": "execute_result"
    }
   ],
   "source": [
    "# Checking for duplicates in the dataset\n",
    "data.duplicated().sum()"
   ]
  },
  {
   "cell_type": "markdown",
   "id": "fb5b8482",
   "metadata": {},
   "source": [
    "No duplicates also in the dataset."
   ]
  },
  {
   "cell_type": "markdown",
   "id": "67f2ba05",
   "metadata": {},
   "source": [
    "#### 3.1.5 Data Types validation and conversion"
   ]
  },
  {
   "cell_type": "markdown",
   "id": "414ecab5",
   "metadata": {},
   "source": [
    "We ensure all data is in the correct format for analysis. Numerical columns are confirmed to be numeric types, and categorical columns are converted to the category data type for efficiency and correct handling by machine learning algorithms. The `area_code` is converted to a categorical type as it represents a group label, not a numerical quantity."
   ]
  },
  {
   "cell_type": "code",
   "execution_count": 15,
   "id": "46611870",
   "metadata": {},
   "outputs": [],
   "source": [
    "# Converting objects to categoricals\n",
    "data[\"state\"] = data[\"state\"].astype(\"category\")\n",
    "data[\"international_plan\"] = data[\"international_plan\"].astype(\"category\")\n",
    "data[\"voice_mail_plan\"] = data[\"voice_mail_plan\"].astype(\"category\")"
   ]
  },
  {
   "cell_type": "code",
   "execution_count": 16,
   "id": "4edc3538",
   "metadata": {},
   "outputs": [],
   "source": [
    "# Convert area code\n",
    "data['area_code'] = data['area_code'].astype(\"category\")\n"
   ]
  },
  {
   "cell_type": "code",
   "execution_count": 17,
   "id": "ad93a6bd",
   "metadata": {},
   "outputs": [
    {
     "data": {
      "text/plain": [
       "state                     category\n",
       "account_length               int64\n",
       "area_code                 category\n",
       "international_plan        category\n",
       "voice_mail_plan           category\n",
       "number_vmail_messages        int64\n",
       "total_day_minutes          float64\n",
       "total_day_calls              int64\n",
       "total_day_charge           float64\n",
       "total_eve_minutes          float64\n",
       "total_eve_calls              int64\n",
       "total_eve_charge           float64\n",
       "total_night_minutes        float64\n",
       "total_night_calls            int64\n",
       "total_night_charge         float64\n",
       "total_intl_minutes         float64\n",
       "total_intl_calls             int64\n",
       "total_intl_charge          float64\n",
       "customer_service_calls       int64\n",
       "churn                         bool\n",
       "dtype: object"
      ]
     },
     "execution_count": 17,
     "metadata": {},
     "output_type": "execute_result"
    }
   ],
   "source": [
    "# Ensure numeric columns are numeric\n",
    "numeric_cols = data.select_dtypes(include = ['number']).columns\n",
    "data[numeric_cols] = data[numeric_cols].apply(pd.to_numeric, errors = 'coerce')\n",
    "\n",
    "# Check data types\n",
    "data.dtypes"
   ]
  },
  {
   "cell_type": "markdown",
   "id": "c4c4b488",
   "metadata": {},
   "source": [
    "### 3.2 Exploratory Data Analysis\n",
    "This step involves investigating a dataset to understand its main characteristics and uncover patterns."
   ]
  },
  {
   "cell_type": "markdown",
   "id": "dfa19e27",
   "metadata": {},
   "source": [
    "#### 3.2.1 Univariate Analysis\n",
    "Univariate analysis examines each variable individually to understand its distribution and central tendency."
   ]
  },
  {
   "cell_type": "markdown",
   "id": "78b33910",
   "metadata": {},
   "source": [
    "##### 3.2.1.1 Univariate analysis for categorical columns"
   ]
  },
  {
   "cell_type": "markdown",
   "id": "c42eb030",
   "metadata": {},
   "source": [
    "We first examine the distribution of our categorical features, starting with the most important one: our target variable `churn`.\n"
   ]
  },
  {
   "cell_type": "code",
   "execution_count": 18,
   "id": "26b95d2d",
   "metadata": {},
   "outputs": [
    {
     "name": "stdout",
     "output_type": "stream",
     "text": [
      "False    2850\n",
      "True      483\n",
      "Name: churn, dtype: int64\n",
      "False    85.508551\n",
      "True     14.491449\n",
      "Name: churn, dtype: float64\n"
     ]
    },
    {
     "data": {
      "image/png": "[encoded data removed]",
      "text/plain": [
       "<Figure size 576x288 with 1 Axes>"
      ]
     },
     "metadata": {
      "needs_background": "light"
     },
     "output_type": "display_data"
    }
   ],
   "source": [
    "# Distribution of target variable churn\n",
    "\n",
    "# Count of target variable\n",
    "print(data[\"churn\"].value_counts())\n",
    "\n",
    "# Percentage of target variable\n",
    "print(data[\"churn\"].value_counts(normalize = True) * 100)\n",
    "\n",
    "# Visualize the target variable distribution\n",
    "plt.figure(figsize = (8, 4))\n",
    "sns.countplot(x = \"churn\", data = data)\n",
    "plt.title(\"Distribution of Churn\")\n",
    "plt.show()"
   ]
  },
  {
   "cell_type": "markdown",
   "id": "27c862d4",
   "metadata": {},
   "source": [
    "2850 customers did not churn accounting to 85.5 %, while 483 customers left accounting to 14.5%. This shows the data is imbalanced, with fewer churned customers compared to non-churned ones."
   ]
  },
  {
   "cell_type": "markdown",
   "id": "d8777d85",
   "metadata": {},
   "source": [
    "International plan distribution"
   ]
  },
  {
   "cell_type": "code",
   "execution_count": 19,
   "id": "2390c406",
   "metadata": {},
   "outputs": [
    {
     "name": "stdout",
     "output_type": "stream",
     "text": [
      "no     3010\n",
      "yes     323\n",
      "Name: international_plan, dtype: int64\n",
      "no     90.309031\n",
      "yes     9.690969\n",
      "Name: international_plan, dtype: float64\n"
     ]
    },
    {
     "data": {
      "image/png": "[encoded data removed]",
      "text/plain": [
       "<Figure size 576x288 with 1 Axes>"
      ]
     },
     "metadata": {
      "needs_background": "light"
     },
     "output_type": "display_data"
    }
   ],
   "source": [
    "# Distribution of international_plan column\n",
    "print(data[\"international_plan\"].value_counts())\n",
    "\n",
    "# Percentage\n",
    "print(data[\"international_plan\"].value_counts(normalize = True) * 100)\n",
    "\n",
    "\n",
    "# Visualize\n",
    "plt.figure(figsize = (8,4))\n",
    "sns.countplot(x = \"international_plan\", data = data)\n",
    "plt.title(\"Distribution of International Plan\")\n",
    "plt.show()"
   ]
  },
  {
   "cell_type": "markdown",
   "id": "c1d01401",
   "metadata": {},
   "source": [
    "3010 customers are not subscribed to an international plan while 323 have the international plan."
   ]
  },
  {
   "cell_type": "markdown",
   "id": "14348c39",
   "metadata": {},
   "source": [
    "Voicemail plan distribution"
   ]
  },
  {
   "cell_type": "code",
   "execution_count": 20,
   "id": "cf51c2c7",
   "metadata": {},
   "outputs": [
    {
     "name": "stdout",
     "output_type": "stream",
     "text": [
      "no     2411\n",
      "yes     922\n",
      "Name: voice_mail_plan, dtype: int64\n",
      "no     72.337234\n",
      "yes    27.662766\n",
      "Name: voice_mail_plan, dtype: float64\n"
     ]
    },
    {
     "data": {
      "image/png": "[encoded data removed]",
      "text/plain": [
       "<Figure size 576x288 with 1 Axes>"
      ]
     },
     "metadata": {
      "needs_background": "light"
     },
     "output_type": "display_data"
    }
   ],
   "source": [
    "# Distribution of voice_mail_plan\n",
    "print(data[\"voice_mail_plan\"].value_counts())\n",
    "\n",
    "# Percentage\n",
    "print(data[\"voice_mail_plan\"].value_counts(normalize = True) * 100)\n",
    "\n",
    "# Visualize\n",
    "plt.figure(figsize = (8,4))\n",
    "sns.countplot(x = \"voice_mail_plan\", data = data)\n",
    "plt.title(\"Distribution of voice_mail_plan\")\n",
    "plt.show()"
   ]
  },
  {
   "cell_type": "markdown",
   "id": "726853d2",
   "metadata": {},
   "source": [
    "72% of customers do not have voicemail plan. 28% have a voice mail plan."
   ]
  },
  {
   "cell_type": "markdown",
   "id": "b1dcfa86",
   "metadata": {},
   "source": [
    "Area code distribution"
   ]
  },
  {
   "cell_type": "code",
   "execution_count": 21,
   "id": "6a9c5a54",
   "metadata": {},
   "outputs": [
    {
     "name": "stdout",
     "output_type": "stream",
     "text": [
      "415    1655\n",
      "510     840\n",
      "408     838\n",
      "Name: area_code, dtype: int64\n",
      "415    49.654965\n",
      "510    25.202520\n",
      "408    25.142514\n",
      "Name: area_code, dtype: float64\n"
     ]
    },
    {
     "data": {
      "image/png": "[encoded data removed]",
      "text/plain": [
       "<Figure size 576x288 with 1 Axes>"
      ]
     },
     "metadata": {
      "needs_background": "light"
     },
     "output_type": "display_data"
    }
   ],
   "source": [
    "# Distribution of area_code column\n",
    "\n",
    "print(data[\"area_code\"].value_counts())\n",
    "\n",
    "# Percentage\n",
    "print(data[\"area_code\"].value_counts(normalize = True) * 100)\n",
    "\n",
    "# Visualize\n",
    "plt.figure(figsize = (8, 4))\n",
    "sns.countplot(x = \"area_code\", data = data)\n",
    "plt.title(\"Distribution of Area Code\")\n",
    "plt.show()"
   ]
  },
  {
   "cell_type": "markdown",
   "id": "77711c78",
   "metadata": {},
   "source": [
    "Almost half of the customers are in the 415 area code. The remaining customers are roughly evenly split between 510 and 408."
   ]
  },
  {
   "cell_type": "markdown",
   "id": "38b9a421",
   "metadata": {},
   "source": [
    "State distribution"
   ]
  },
  {
   "cell_type": "code",
   "execution_count": 22,
   "id": "aa2ccedc",
   "metadata": {},
   "outputs": [
    {
     "data": {
      "image/png": "[encoded data removed]",
      "text/plain": [
       "<Figure size 1008x432 with 1 Axes>"
      ]
     },
     "metadata": {
      "needs_background": "light"
     },
     "output_type": "display_data"
    }
   ],
   "source": [
    "# Distribution of state column\n",
    "\n",
    "# Get states by count\n",
    "states = data['state'].value_counts() \n",
    "\n",
    "# Visualize\n",
    "plt.figure(figsize = (14, 6))\n",
    "sns.barplot(x = states.index, y = states.values, palette = 'viridis', order = states.index)\n",
    "\n",
    "plt.title(\"States Distribution\")\n",
    "plt.xlabel(\"State\")\n",
    "plt.ylabel(\"Number of Customers\")\n",
    "plt.show()"
   ]
  },
  {
   "cell_type": "markdown",
   "id": "7551bff9",
   "metadata": {},
   "source": [
    "WV has the highest number of customers with 106, making up the largest share in this group. MN, NY, AL, and OR follow closely, ranging from 78 to 84 customers."
   ]
  },
  {
   "cell_type": "markdown",
   "id": "d433ca6b",
   "metadata": {},
   "source": [
    "##### 3.2.1.2 Univariate analysis for numerical columns"
   ]
  },
  {
   "cell_type": "code",
   "execution_count": 23,
   "id": "33dc4db6",
   "metadata": {},
   "outputs": [
    {
     "data": {
      "image/png": "[encoded data removed]",
      "text/plain": [
       "<Figure size 1080x720 with 16 Axes>"
      ]
     },
     "metadata": {
      "needs_background": "light"
     },
     "output_type": "display_data"
    }
   ],
   "source": [
    "# Plot histograms only for numeric columns\n",
    "data.select_dtypes(include = 'number').hist(bins = 30, figsize = (15, 10), edgecolor = 'black')\n",
    "plt.tight_layout()\n",
    "plt.show()"
   ]
  },
  {
   "cell_type": "markdown",
   "id": "4d5ba5dc",
   "metadata": {},
   "source": [
    "Most features, including account length, total calls,total minutes, and total charges, show a normal distribution."
   ]
  },
  {
   "cell_type": "markdown",
   "id": "07d610a2",
   "metadata": {},
   "source": [
    "#### 3.2.2 Bivariate Analysis"
   ]
  },
  {
   "cell_type": "markdown",
   "id": "6629a362",
   "metadata": {},
   "source": [
    "Bivariate analysis examines the relationship between two variables to see how one may affect or relate to the other. In our case, the main focus will be how other variables relate to churn."
   ]
  },
  {
   "cell_type": "markdown",
   "id": "fd07e31b",
   "metadata": {},
   "source": [
    "**Churn vs Customer service calls**"
   ]
  },
  {
   "cell_type": "code",
   "execution_count": 24,
   "id": "856acdfa",
   "metadata": {},
   "outputs": [
    {
     "data": {
      "image/png": "[encoded data removed]",
      "text/plain": [
       "<Figure size 720x432 with 1 Axes>"
      ]
     },
     "metadata": {
      "needs_background": "light"
     },
     "output_type": "display_data"
    }
   ],
   "source": [
    "# Churn vs Customer service calls \n",
    "\n",
    "plt.figure(figsize = (10, 6))\n",
    "sns.boxplot(data = data, x = 'churn', y = 'customer_service_calls', palette = 'Set2')\n",
    "plt.title('Distribution of Customer Service Calls by Churn Status')\n",
    "plt.xlabel('Churn')\n",
    "plt.ylabel('Number of Customer Service Calls')\n",
    "\n",
    "plt.show()"
   ]
  },
  {
   "cell_type": "markdown",
   "id": "52a3c773",
   "metadata": {},
   "source": [
    "Customers who churn tend to have made more customer service calls compared to those who stay."
   ]
  },
  {
   "cell_type": "markdown",
   "id": "3ac9ee98",
   "metadata": {},
   "source": [
    "**Account length vs Churn**"
   ]
  },
  {
   "cell_type": "code",
   "execution_count": 25,
   "id": "9d4eec72",
   "metadata": {},
   "outputs": [
    {
     "data": {
      "image/png": "[encoded data removed]",
      "text/plain": [
       "<Figure size 576x360 with 1 Axes>"
      ]
     },
     "metadata": {
      "needs_background": "light"
     },
     "output_type": "display_data"
    }
   ],
   "source": [
    "#histogram to show the distribution of account length by churn\n",
    "plt.figure(figsize = (8,5))\n",
    "sns.histplot(data = data, x = 'account_length', hue = 'churn', kde = True, bins = 30)\n",
    "plt.title(\"Distribution of Account Length by Churn\")\n",
    "plt.xlabel(\"Account Length (days)\")\n",
    "plt.ylabel(\"Count\")\n",
    "plt.show()"
   ]
  },
  {
   "cell_type": "markdown",
   "id": "e1b73a25",
   "metadata": {},
   "source": [
    "Both churners (orange) and non-churners (blue) follow a bell-shaped distribution. Churn is more common among newer and mid tenure customers, while long tenure customers are less likely to churn."
   ]
  },
  {
   "cell_type": "markdown",
   "id": "2bcfea16",
   "metadata": {},
   "source": [
    "**International and voicemail plan vs Churn**"
   ]
  },
  {
   "cell_type": "code",
   "execution_count": 26,
   "id": "03e0603f",
   "metadata": {},
   "outputs": [
    {
     "data": {
      "image/png": "[encoded data removed]",
      "text/plain": [
       "<Figure size 720x432 with 1 Axes>"
      ]
     },
     "metadata": {
      "needs_background": "light"
     },
     "output_type": "display_data"
    }
   ],
   "source": [
    "# Plot to show international plan and churn\n",
    "\n",
    "plt.figure(figsize = (10,6))\n",
    "sns.countplot(x = 'international_plan', hue = data['churn'].astype(str), data = data, palette = 'Set2')\n",
    "plt.title(\"Churn by International Plan\")\n",
    "plt.xlabel(\"International Plan\")\n",
    "plt.ylabel(\"Number of Customers\")\n",
    "plt.show()"
   ]
  },
  {
   "cell_type": "markdown",
   "id": "aea32c47",
   "metadata": {},
   "source": [
    "Most customers do not choose to subscribe to international plans. But those who do, are less likely to churn."
   ]
  },
  {
   "cell_type": "code",
   "execution_count": 27,
   "id": "c7945655",
   "metadata": {},
   "outputs": [
    {
     "data": {
      "image/png": "[encoded data removed]",
      "text/plain": [
       "<Figure size 720x432 with 1 Axes>"
      ]
     },
     "metadata": {
      "needs_background": "light"
     },
     "output_type": "display_data"
    }
   ],
   "source": [
    "# Bar plot to show voicemail plan and churn\n",
    "plt.figure(figsize = (10, 6))\n",
    "sns.countplot(x = 'voice_mail_plan', hue = data['churn'].astype(str), data = data, palette = 'Set2')\n",
    "plt.title(\"Churn by Voicemail Plan\")\n",
    "plt.xlabel(\"Voicemail Plan\")\n",
    "plt.ylabel(\"Number of Customers\")\n",
    "plt.show();"
   ]
  },
  {
   "cell_type": "markdown",
   "id": "44bc2176",
   "metadata": {},
   "source": [
    "Customers who have subscribed to voicemail plans are less likely to churn."
   ]
  },
  {
   "cell_type": "markdown",
   "id": "6dca030d",
   "metadata": {},
   "source": [
    "**Churn vs charges**"
   ]
  },
  {
   "cell_type": "code",
   "execution_count": 28,
   "id": "94265054",
   "metadata": {},
   "outputs": [
    {
     "data": {
      "image/png": "[encoded data removed]",
      "text/plain": [
       "<Figure size 1008x576 with 4 Axes>"
      ]
     },
     "metadata": {
      "needs_background": "light"
     },
     "output_type": "display_data"
    }
   ],
   "source": [
    "# Box plots to show charges vs churn\n",
    "charge_features = [\"total_day_charge\", \"total_eve_charge\", \"total_night_charge\", \"total_intl_charge\"]\n",
    "\n",
    "plt.figure(figsize = (14,8))\n",
    "for i, col in enumerate(charge_features, 1):\n",
    "    plt.subplot(2, 2, i)\n",
    "    sns.boxplot(x = \"churn\", y = col, data = data, palette = \"Set2\")\n",
    "    plt.title(f\"{col} vs Churn\")\n",
    "plt.tight_layout()\n",
    "plt.show()"
   ]
  },
  {
   "cell_type": "markdown",
   "id": "1dd3928d",
   "metadata": {},
   "source": [
    "The total day charge shows that most customers that have high spending churn."
   ]
  },
  {
   "cell_type": "markdown",
   "id": "d37b5686",
   "metadata": {},
   "source": [
    "#### 3.2.3 Multivariate analysis\n",
    "This involves a multivariate analysis examining relationships between multiple variables simultaneously."
   ]
  },
  {
   "cell_type": "markdown",
   "id": "3fc2254c",
   "metadata": {},
   "source": [
    "**Correlation Heatmap**"
   ]
  },
  {
   "cell_type": "code",
   "execution_count": 29,
   "id": "503e1420",
   "metadata": {},
   "outputs": [
    {
     "data": {
      "image/png": "[encoded data removed]",
      "text/plain": [
       "<Figure size 864x432 with 2 Axes>"
      ]
     },
     "metadata": {
      "needs_background": "light"
     },
     "output_type": "display_data"
    }
   ],
   "source": [
    "numeric_data = data.select_dtypes(include = [\"number\"])  \n",
    "plt.figure(figsize = (12, 6))\n",
    "sns.heatmap(numeric_data.corr(), annot = True, cmap = \"coolwarm\", center = 0, fmt = \".2f\")\n",
    "plt.title(\"Correlation Heatmap of Numerical Features\")\n",
    "plt.show()"
   ]
  },
  {
   "cell_type": "markdown",
   "id": "e67c441a",
   "metadata": {},
   "source": [
    "Features like `total_day_minutes` and `total_day_charge` are highly correlated, which is expected since charges depend on usage. Similar patterns exist for evening and night minutes vs charges. This indicates multicollinearity."
   ]
  },
  {
   "cell_type": "markdown",
   "id": "57fa7e0b",
   "metadata": {},
   "source": [
    "### 3.3 Handling Multicollinearity"
   ]
  },
  {
   "cell_type": "markdown",
   "id": "f99e638f",
   "metadata": {},
   "source": [
    "From the heatmap, we can see some features are highly correlated hence the need to handle them."
   ]
  },
  {
   "cell_type": "code",
   "execution_count": 30,
   "id": "1ac8f116",
   "metadata": {},
   "outputs": [
    {
     "name": "stdout",
     "output_type": "stream",
     "text": [
      "The reduced dataframe has 16 columns.\n",
      "Dropped columns: ['total_day_minutes', 'total_eve_minutes', 'total_night_minutes', 'total_intl_minutes']\n"
     ]
    }
   ],
   "source": [
    "# Drop highly correlated features\n",
    "corr_matrix = data.corr().abs()\n",
    "\n",
    "# Create mask and get upper triangle\n",
    "mask = np.triu(np.ones_like(corr_matrix, dtype = bool))\n",
    "tri_df = corr_matrix.mask(mask)\n",
    "\n",
    "# Find columns with high correlation\n",
    "to_drop = tri_df.columns[tri_df.max() > 0.90].tolist()\n",
    "\n",
    "# Drop features and print result\n",
    "data = data.drop(to_drop, axis = 1)\n",
    "print(\"The reduced dataframe has {} columns.\".format(data.shape[1]))\n",
    "print(\"Dropped columns:\", to_drop)"
   ]
  },
  {
   "cell_type": "code",
   "execution_count": 31,
   "id": "4aa4c86a",
   "metadata": {},
   "outputs": [
    {
     "data": {
      "text/plain": [
       "Index(['state', 'account_length', 'area_code', 'international_plan',\n",
       "       'voice_mail_plan', 'number_vmail_messages', 'total_day_calls',\n",
       "       'total_day_charge', 'total_eve_calls', 'total_eve_charge',\n",
       "       'total_night_calls', 'total_night_charge', 'total_intl_calls',\n",
       "       'total_intl_charge', 'customer_service_calls', 'churn'],\n",
       "      dtype='object')"
      ]
     },
     "execution_count": 31,
     "metadata": {},
     "output_type": "execute_result"
    }
   ],
   "source": [
    "data.columns"
   ]
  },
  {
   "cell_type": "markdown",
   "id": "dd88d3c5",
   "metadata": {},
   "source": [
    "### 3.4 Handling outliers"
   ]
  },
  {
   "cell_type": "code",
   "execution_count": 32,
   "id": "5ef8cda4",
   "metadata": {},
   "outputs": [
    {
     "data": {
      "image/png": "[encoded data removed]",
      "text/plain": [
       "<Figure size 1296x432 with 1 Axes>"
      ]
     },
     "metadata": {
      "needs_background": "light"
     },
     "output_type": "display_data"
    }
   ],
   "source": [
    "# Visualize outliers for numerical features\n",
    "\n",
    "numerical_features = data.select_dtypes(include = [\"int64\", \"float64\"]).columns\n",
    "plt.figure(figsize = (18, 6))\n",
    "data[numerical_features].boxplot()\n",
    "plt.title(\"Boxplot of Numerical Features - Outlier Detection\")\n",
    "plt.xticks(rotation = 45)\n",
    "plt.show()"
   ]
  },
  {
   "cell_type": "markdown",
   "id": "98a6e36f",
   "metadata": {},
   "source": [
    "Outliers were retained as they reflect genuine customer behaviors that may be strong indicators of churn."
   ]
  },
  {
   "cell_type": "markdown",
   "id": "6636665a",
   "metadata": {},
   "source": [
    "### 3.5 Data Preprocessing"
   ]
  },
  {
   "cell_type": "markdown",
   "id": "0608e9f7",
   "metadata": {},
   "source": [
    "#### 3.5.1 Data splitting\n",
    "W begin by splitting data to separate Features (X) and Target (y). "
   ]
  },
  {
   "cell_type": "code",
   "execution_count": 33,
   "id": "14f3a748",
   "metadata": {},
   "outputs": [
    {
     "name": "stdout",
     "output_type": "stream",
     "text": [
      "Shape of features (X): (3333, 15)\n",
      "Shape of target (y): (3333,)\n"
     ]
    }
   ],
   "source": [
    "# Separate the target from the features\n",
    "X = data.drop('churn', axis = 1) \n",
    "y = data['churn'] \n",
    "\n",
    "# Confirm the shapes \n",
    "print(f\"Shape of features (X): {X.shape}\")\n",
    "print(f\"Shape of target (y): {y.shape}\")"
   ]
  },
  {
   "cell_type": "markdown",
   "id": "cfc46144",
   "metadata": {},
   "source": [
    "#### 3.5.2 Train-Test Split"
   ]
  },
  {
   "cell_type": "markdown",
   "id": "cbe4493f",
   "metadata": {},
   "source": [
    "We now split the data into training and testing sets. The model will be trained on the X_train/y_train set and evaluated on the unseen X_test/y_test set to check its generalization performance. We use stratification to ensure the class distribution of the target variable is preserved in both sets."
   ]
  },
  {
   "cell_type": "code",
   "execution_count": 34,
   "id": "a8ec2ed9",
   "metadata": {},
   "outputs": [],
   "source": [
    "# Perform the train-test split\n",
    "X_train, X_test, y_train, y_test = train_test_split(X, y, test_size = 0.2, random_state = 42, stratify = y)"
   ]
  },
  {
   "cell_type": "markdown",
   "id": "98e3b4eb",
   "metadata": {},
   "source": [
    "#### 3.5.3 One-Hot Encoding \n",
    "One-hot encoding is a method to convert categorical data into a numeric format that machine learning models can use.\n",
    "\n",
    "In this section, we will perform one-hot encoding on the following columns: `state`, `area_code`, `international_plan`, and `voice_mail_plan`."
   ]
  },
  {
   "cell_type": "code",
   "execution_count": 35,
   "id": "80535c99",
   "metadata": {},
   "outputs": [],
   "source": [
    "# Categorical columns\n",
    "categorical_cols = ['state', 'area_code', 'international_plan', 'voice_mail_plan']\n",
    "\n",
    "# Initialize the OneHotEncoder\n",
    "ohe_encoder = OneHotEncoder(handle_unknown = 'ignore', sparse = False)\n",
    "\n",
    "# Fit the encoder on the Training data's categorical columns\n",
    "ohe_encoder.fit(X_train[categorical_cols])\n",
    "\n",
    "# Transform the training data\n",
    "X_train_ohe = ohe_encoder.transform(X_train[categorical_cols])\n",
    "\n",
    "# Convert the output to a DataFrame.\n",
    "feature_names = ohe_encoder.get_feature_names(categorical_cols) \n",
    "X_train_ohe_df = pd.DataFrame(X_train_ohe, columns = feature_names, index = X_train.index)"
   ]
  },
  {
   "cell_type": "code",
   "execution_count": 36,
   "id": "2853471f",
   "metadata": {},
   "outputs": [
    {
     "name": "stdout",
     "output_type": "stream",
     "text": [
      "Shape of encoded training features: (2666, 58)\n",
      "Shape of encoded test features: (667, 58)\n"
     ]
    }
   ],
   "source": [
    "# Transform the Test data \n",
    "X_test_ohe = ohe_encoder.transform(X_test[categorical_cols])\n",
    "X_test_ohe_df = pd.DataFrame(X_test_ohe, columns = feature_names, index = X_test.index) \n",
    "\n",
    "print(f\"Shape of encoded training features: {X_train_ohe_df.shape}\")\n",
    "print(f\"Shape of encoded test features: {X_test_ohe_df.shape}\")"
   ]
  },
  {
   "cell_type": "markdown",
   "id": "1a7c4a10",
   "metadata": {},
   "source": [
    "#### 3.5.4 Scaling Numerical Features\n",
    "Features on different scales can bias certain models. We standardize our numerical features to have a mean of 0 and a standard deviation of 1. The StandardScaler is fit on the training data and then used to transform both sets, preventing data leakage from the test set."
   ]
  },
  {
   "cell_type": "code",
   "execution_count": 37,
   "id": "b91bf707",
   "metadata": {},
   "outputs": [
    {
     "name": "stdout",
     "output_type": "stream",
     "text": [
      "Shape of scaled training numerical features: (2666, 11)\n",
      "Shape of scaled test numerical features: (667, 11)\n"
     ]
    }
   ],
   "source": [
    "# Scale Numerical Features\n",
    "numerical_cols = ['account_length', 'number_vmail_messages', 'total_day_calls', \n",
    "                  'total_day_charge', 'total_eve_calls', 'total_eve_charge', \n",
    "                  'total_night_calls', 'total_night_charge', 'total_intl_calls', \n",
    "                  'total_intl_charge', 'customer_service_calls']\n",
    "\n",
    "# Initialize the StandardScaler\n",
    "scaler = StandardScaler()\n",
    "\n",
    "# Fit the scaler on the Training data's numerical columns\n",
    "scaler.fit(X_train[numerical_cols])\n",
    "\n",
    "# Transform the Training data\n",
    "X_train_scaled = scaler.transform(X_train[numerical_cols])\n",
    "X_train_scaled_df = pd.DataFrame(X_train_scaled, columns = numerical_cols, index = X_train.index)\n",
    "\n",
    "# Transform the Test data \n",
    "X_test_scaled = scaler.transform(X_test[numerical_cols])\n",
    "X_test_scaled_df = pd.DataFrame(X_test_scaled, columns = numerical_cols, index = X_test.index)\n",
    "\n",
    "print(f\"Shape of scaled training numerical features: {X_train_scaled_df.shape}\")\n",
    "print(f\"Shape of scaled test numerical features: {X_test_scaled_df.shape}\")\n",
    "\n"
   ]
  },
  {
   "cell_type": "code",
   "execution_count": 38,
   "id": "de3fdfea",
   "metadata": {},
   "outputs": [],
   "source": [
    "# Save the modified DataFrame to a new csv file\n",
    "data.to_csv(\"encoded.csv\", index = False)\n"
   ]
  },
  {
   "cell_type": "markdown",
   "id": "942f35e3",
   "metadata": {},
   "source": [
    "#### 3.5.5 Combining Processed Features\n",
    "After processing the categorical and numerical features separately, we combine them back into final training and test datasets by dropping the original columns and joining the new preprocessed DataFrames."
   ]
  },
  {
   "cell_type": "code",
   "execution_count": 39,
   "id": "137e3aef",
   "metadata": {},
   "outputs": [
    {
     "name": "stdout",
     "output_type": "stream",
     "text": [
      "Final training shape: (2666, 69)\n",
      "Final test shape: (667, 69)\n"
     ]
    }
   ],
   "source": [
    "# Drop the original categorical and numerical columns from the original X_train\n",
    "X_train_full = X_train.drop(columns=categorical_cols + numerical_cols)\n",
    "\n",
    "# Join the new processed DataFrames\n",
    "X_train_full = X_train_full.join([X_train_scaled_df, X_train_ohe_df])\n",
    "\n",
    "# Drop the original categorical and numerical columns from the original X_test\n",
    "X_test_full = X_test.drop(columns = categorical_cols + numerical_cols)\n",
    "X_test_full = X_test_full.join([X_test_scaled_df, X_test_ohe_df])\n",
    "\n",
    "print(f\"Final training shape: {X_train_full.shape}\")\n",
    "print(f\"Final test shape: {X_test_full.shape}\")\n"
   ]
  },
  {
   "cell_type": "markdown",
   "id": "dd70e9d7",
   "metadata": {},
   "source": [
    "#### 3.5.6 Handling Class Imbalance"
   ]
  },
  {
   "cell_type": "markdown",
   "id": "dba10752",
   "metadata": {},
   "source": [
    "SMOTE (Synthetic Minority Over-sampling Technique) is a popular method used to address the class imbalance problem in datasets. Our target variable `churn`, is imbalanced. We use SMOTE to synthetically generate examples for the minority class (customers who churned) only on the training data. "
   ]
  },
  {
   "cell_type": "code",
   "execution_count": 40,
   "id": "0e980311",
   "metadata": {},
   "outputs": [
    {
     "name": "stdout",
     "output_type": "stream",
     "text": [
      "Before SMOTE, class distribution in y_train: \n",
      "False    2280\n",
      "True      386\n",
      "Name: churn, dtype: int64\n",
      "\n",
      "After SMOTE, class distribution in y_train_final: \n",
      "True     2280\n",
      "False    2280\n",
      "Name: churn, dtype: int64\n",
      "New shape of X_train_final: (4560, 69)\n"
     ]
    }
   ],
   "source": [
    "\n",
    "print(f\"Before SMOTE, class distribution in y_train: \\n{pd.Series(y_train).value_counts()}\")\n",
    "\n",
    "# Initialize SMOTE\n",
    "smote = SMOTE(random_state = 42)\n",
    "\n",
    "# Apply SMOTE \n",
    "X_train_final, y_train_final = smote.fit_resample(X_train_full, y_train)\n",
    "\n",
    "print(f\"\\nAfter SMOTE, class distribution in y_train_final: \\n{pd.Series(y_train_final).value_counts()}\")\n",
    "print(f\"New shape of X_train_final: {X_train_final.shape}\")"
   ]
  },
  {
   "cell_type": "markdown",
   "id": "0e8f9071",
   "metadata": {},
   "source": [
    "## 4.0  MODELLING\n",
    "At this stage, we apply machine learning algorithms to predict customer churn. Since our target variable `churn`, has two possible values (False for no churn and True for churn), this is a binary classification task.\n",
    "\n",
    "We will train and evaluate several classification models, starting with Logistic Regression and then exploring more  models like Decision Trees, Random Forest, and KNN Neighbors to compare their performance in predicting customer churn.\n",
    "\n",
    "Model performance will be evaluated using a various key metrics: Accuracy, Precision, Recall, F1-Score, and Confusion Matrices. The primary business goal is to build a model that can accurately identify customers at high risk of churning."
   ]
  },
  {
   "cell_type": "markdown",
   "id": "a74aa0d2",
   "metadata": {},
   "source": [
    "### 4.1 Logistic Regression"
   ]
  },
  {
   "cell_type": "markdown",
   "id": "d16c2c86",
   "metadata": {},
   "source": [
    "This is an interpretable machine learning algorithm that is commonly used for binary classification tasks. This will be our baseline model to establish a performance benchmark."
   ]
  },
  {
   "cell_type": "code",
   "execution_count": 41,
   "id": "c9647305",
   "metadata": {},
   "outputs": [
    {
     "data": {
      "text/plain": [
       "LogisticRegression(max_iter=1000, random_state=42)"
      ]
     },
     "execution_count": 41,
     "metadata": {},
     "output_type": "execute_result"
    }
   ],
   "source": [
    "# Initialize the Logistic Regression model.\n",
    "logistic_model = LogisticRegression(random_state = 42, max_iter = 1000)\n",
    "\n",
    "# Fit the model on the preprocessed training data\n",
    "logistic_model.fit(X_train_final, y_train_final)"
   ]
  },
  {
   "cell_type": "code",
   "execution_count": 42,
   "id": "daca6c22",
   "metadata": {},
   "outputs": [],
   "source": [
    "# Make predictions on the preprocessed test set\n",
    "y_pred = logistic_model.predict(X_test_full)"
   ]
  },
  {
   "cell_type": "markdown",
   "id": "2f1cca3f",
   "metadata": {},
   "source": [
    "We now evaluate the performance of our baseline Logistic Regression model on the unseen test data."
   ]
  },
  {
   "cell_type": "code",
   "execution_count": 43,
   "id": "52a549ed",
   "metadata": {},
   "outputs": [
    {
     "name": "stdout",
     "output_type": "stream",
     "text": [
      "\n",
      "Classification Report:\n",
      "               precision    recall  f1-score   support\n",
      "\n",
      "       False       0.94      0.76      0.84       570\n",
      "        True       0.33      0.69      0.45        97\n",
      "\n",
      "    accuracy                           0.75       667\n",
      "   macro avg       0.63      0.73      0.64       667\n",
      "weighted avg       0.85      0.75      0.78       667\n",
      "\n"
     ]
    }
   ],
   "source": [
    "# Classification report\n",
    "print(\"\\nClassification Report:\\n\", classification_report(y_test, y_pred))"
   ]
  },
  {
   "cell_type": "markdown",
   "id": "3e285098",
   "metadata": {},
   "source": [
    "This model demonstrates precision-recall trade-off. It correctly identifies 69% of all churning customers (recall) but at the cost of only 33% of its positive predictions being correct (precision). Its overall accuracy is 75% meaning the model is learning to predict the majority class."
   ]
  },
  {
   "cell_type": "markdown",
   "id": "23c0bad1",
   "metadata": {},
   "source": [
    "The confusion matrix will provide a clear visual breakdown of the model's predictions versus the actual outcomes, giving us insight into the types of errors it is making."
   ]
  },
  {
   "cell_type": "code",
   "execution_count": 44,
   "id": "48ee6ce7",
   "metadata": {},
   "outputs": [
    {
     "data": {
      "image/png": "[encoded data removed]",
      "text/plain": [
       "<Figure size 432x288 with 2 Axes>"
      ]
     },
     "metadata": {
      "needs_background": "light"
     },
     "output_type": "display_data"
    }
   ],
   "source": [
    "# Confusion Matrix\n",
    "log_cm = confusion_matrix(y_test, y_pred)\n",
    "disp = ConfusionMatrixDisplay(confusion_matrix = log_cm, display_labels = logistic_model.classes_)\n",
    "disp.plot(cmap = plt.cm.Blues);"
   ]
  },
  {
   "cell_type": "markdown",
   "id": "42d3c221",
   "metadata": {},
   "source": [
    "True Negatives (Top Left): 433 customers who did not churn were correctly predicted.\n",
    "\n",
    "False Positives (Top Right): 137 customers who did not churn were incorrectly predicted as churned.\n",
    "\n",
    "False Negatives (Bottom Left): 30 customers who did churn were missed by the model and predicted to stay. \n",
    "\n",
    "True Positives (Bottom Right): 67 customers who did churn were correctly identified."
   ]
  },
  {
   "cell_type": "markdown",
   "id": "366bdb96",
   "metadata": {},
   "source": [
    "### 4.2 Random Forest"
   ]
  },
  {
   "cell_type": "markdown",
   "id": "f2500434",
   "metadata": {},
   "source": [
    "It is an ensemble learning method that combines multiple decision trees to make more accurate predictions."
   ]
  },
  {
   "cell_type": "code",
   "execution_count": 45,
   "id": "3cee8cf1",
   "metadata": {},
   "outputs": [
    {
     "data": {
      "text/plain": [
       "RandomForestClassifier(random_state=42)"
      ]
     },
     "execution_count": 45,
     "metadata": {},
     "output_type": "execute_result"
    }
   ],
   "source": [
    "# Initialize the Random Forest Model\n",
    "rf_model = RandomForestClassifier(random_state = 42)\n",
    "\n",
    "# Fit the model\n",
    "rf_model.fit(X_train_final, y_train_final)"
   ]
  },
  {
   "cell_type": "code",
   "execution_count": 46,
   "id": "ce1ff871",
   "metadata": {},
   "outputs": [],
   "source": [
    "# Make predictions\n",
    "y_pred_rf = rf_model.predict(X_test_full)"
   ]
  },
  {
   "cell_type": "markdown",
   "id": "7d04d932",
   "metadata": {},
   "source": [
    "We now evaluate the performance of Random Forest classifier model on the unseen test data."
   ]
  },
  {
   "cell_type": "code",
   "execution_count": 47,
   "id": "372f9b31",
   "metadata": {},
   "outputs": [
    {
     "name": "stdout",
     "output_type": "stream",
     "text": [
      "\n",
      "Classification Report:\n",
      "               precision    recall  f1-score   support\n",
      "\n",
      "       False       0.94      0.96      0.95       570\n",
      "        True       0.76      0.65      0.70        97\n",
      "\n",
      "    accuracy                           0.92       667\n",
      "   macro avg       0.85      0.81      0.83       667\n",
      "weighted avg       0.92      0.92      0.92       667\n",
      "\n"
     ]
    }
   ],
   "source": [
    "# Classification report\n",
    "print(\"\\nClassification Report:\\n\", classification_report(y_test, y_pred_rf))"
   ]
  },
  {
   "cell_type": "markdown",
   "id": "1fbd148b",
   "metadata": {},
   "source": [
    "The model is now highly reliable when it predicts churn. 76% of its customer churn predictions are correct, a massive improvement from the baseline's 33%. The model successfully catches 65% of all customers who did churn. While slightly lower than the baseline's recall, this is a strong result given the large gain in precision."
   ]
  },
  {
   "cell_type": "markdown",
   "id": "a1443284",
   "metadata": {},
   "source": [
    "The confusion matrix will provide a clear visual breakdown of the model's predictions versus the actual outcomes, giving us insight into the types of errors it is making."
   ]
  },
  {
   "cell_type": "code",
   "execution_count": 48,
   "id": "83555691",
   "metadata": {},
   "outputs": [
    {
     "data": {
      "image/png": "[encoded data removed]",
      "text/plain": [
       "<Figure size 432x288 with 2 Axes>"
      ]
     },
     "metadata": {
      "needs_background": "light"
     },
     "output_type": "display_data"
    }
   ],
   "source": [
    "# Confusion Matrix\n",
    "rf_cm = confusion_matrix(y_test, y_pred_rf)\n",
    "disp = ConfusionMatrixDisplay(confusion_matrix = rf_cm, display_labels = rf_model.classes_)\n",
    "disp.plot(cmap = plt.cm.Blues);"
   ]
  },
  {
   "cell_type": "markdown",
   "id": "495cc15c",
   "metadata": {},
   "source": [
    "Top-left (550) True Negatives - Customers who did not churn and model predicted not churn.\n",
    "\n",
    "Top-right (20) False Positives - Customers who did not churn but model predicted churn.\n",
    "\n",
    "Bottom-left (34) False Negatives - Customers who actually churned but model predicted not churn.\n",
    "\n",
    "Bottom-right (63) True Positives - Customers who churned and model correctly predicted churn."
   ]
  },
  {
   "cell_type": "markdown",
   "id": "41f1a0d4",
   "metadata": {},
   "source": [
    "### 4.3 Decision Tree"
   ]
  },
  {
   "cell_type": "markdown",
   "id": "e0b1e6a9",
   "metadata": {},
   "source": [
    "This is a non-parametric supervised learning algorithm used for both classification and regression."
   ]
  },
  {
   "cell_type": "code",
   "execution_count": 49,
   "id": "f90d892d",
   "metadata": {},
   "outputs": [
    {
     "data": {
      "text/plain": [
       "DecisionTreeClassifier(random_state=42)"
      ]
     },
     "execution_count": 49,
     "metadata": {},
     "output_type": "execute_result"
    }
   ],
   "source": [
    "# Initialize the Decision Tree model\n",
    "dt_model = DecisionTreeClassifier(random_state=42)\n",
    "\n",
    "# Fit the model\n",
    "dt_model.fit(X_train_final, y_train_final)"
   ]
  },
  {
   "cell_type": "code",
   "execution_count": 50,
   "id": "d6128a38",
   "metadata": {},
   "outputs": [],
   "source": [
    "# Make predictions\n",
    "y_pred_dt = dt_model.predict(X_test_full)"
   ]
  },
  {
   "cell_type": "markdown",
   "id": "7f3a6691",
   "metadata": {},
   "source": [
    "We now evaluate the performance of Decision Tree model on the unseen test data."
   ]
  },
  {
   "cell_type": "code",
   "execution_count": 51,
   "id": "c7c21b67",
   "metadata": {},
   "outputs": [
    {
     "name": "stdout",
     "output_type": "stream",
     "text": [
      "\n",
      " Classification Report:\n",
      "               precision    recall  f1-score   support\n",
      "\n",
      "       False       0.93      0.89      0.91       570\n",
      "        True       0.50      0.62      0.55        97\n",
      "\n",
      "    accuracy                           0.85       667\n",
      "   macro avg       0.71      0.76      0.73       667\n",
      "weighted avg       0.87      0.85      0.86       667\n",
      "\n"
     ]
    }
   ],
   "source": [
    "# Classification report\n",
    "print(\"\\n Classification Report:\\n\", classification_report(y_test, y_pred_dt))"
   ]
  },
  {
   "cell_type": "markdown",
   "id": "9f67528b",
   "metadata": {},
   "source": [
    "The overall accuracy of 85% is good but misleading, as it is heavily influenced by good performance on the larger class. When it predicts that a customer will churn, it is only correct half the time. The model manages to catch a reasonable portion (62%) of all true churners."
   ]
  },
  {
   "cell_type": "markdown",
   "id": "499d67e0",
   "metadata": {},
   "source": [
    "We visualize the confusion matrix"
   ]
  },
  {
   "cell_type": "code",
   "execution_count": 52,
   "id": "45f086f0",
   "metadata": {},
   "outputs": [
    {
     "data": {
      "image/png": "[encoded data removed]",
      "text/plain": [
       "<Figure size 432x288 with 2 Axes>"
      ]
     },
     "metadata": {
      "needs_background": "light"
     },
     "output_type": "display_data"
    }
   ],
   "source": [
    "# Confusion Matrix\n",
    "dt_cm = confusion_matrix(y_test, y_pred_dt)\n",
    "disp = ConfusionMatrixDisplay(confusion_matrix = dt_cm, display_labels = dt_model.classes_)\n",
    "disp.plot(cmap = plt.cm.Blues);"
   ]
  },
  {
   "cell_type": "markdown",
   "id": "107075dd",
   "metadata": {},
   "source": [
    "Top-left (509) True Negatives - Customers who did not churn and model predicted not churn.\n",
    "\n",
    "Top-right (61) False Positives - Customers who did not churn but model predicted churn.\n",
    "\n",
    "Bottom-left (37) False Negatives - Customers who actually churned but model predicted not churn.\n",
    "\n",
    "Bottom-right (60) True Positives - Customers who churned and model correctly predicted churn."
   ]
  },
  {
   "cell_type": "markdown",
   "id": "fed22735",
   "metadata": {},
   "source": [
    "### 4.4 K-Nearest Neighbors"
   ]
  },
  {
   "cell_type": "markdown",
   "id": "9da1f34d",
   "metadata": {},
   "source": [
    "K-Nearest Neighbors is a non-parametric learning algorithm used for classification and regression. It classifies a data point based on how its nearest neighbors in the training data are classified."
   ]
  },
  {
   "cell_type": "code",
   "execution_count": 53,
   "id": "0b174253",
   "metadata": {},
   "outputs": [
    {
     "data": {
      "text/plain": [
       "KNeighborsClassifier()"
      ]
     },
     "execution_count": 53,
     "metadata": {},
     "output_type": "execute_result"
    }
   ],
   "source": [
    "# KNN Neighbors\n",
    "knn_model = KNeighborsClassifier(n_neighbors=5)  \n",
    "knn_model.fit(X_train_final, y_train_final)"
   ]
  },
  {
   "cell_type": "code",
   "execution_count": 54,
   "id": "385ea877",
   "metadata": {},
   "outputs": [],
   "source": [
    "#  Predict on test data\n",
    "y_pred_knn = knn_model.predict(X_test_full)"
   ]
  },
  {
   "cell_type": "markdown",
   "id": "c0442903",
   "metadata": {},
   "source": [
    "We now evaluate the performance of KNN model on the unseen test data."
   ]
  },
  {
   "cell_type": "code",
   "execution_count": 55,
   "id": "ee9497a6",
   "metadata": {},
   "outputs": [
    {
     "name": "stdout",
     "output_type": "stream",
     "text": [
      "\n",
      "Classification Report:\n",
      "               precision    recall  f1-score   support\n",
      "\n",
      "       False       0.94      0.76      0.84       570\n",
      "        True       0.33      0.69      0.45        97\n",
      "\n",
      "    accuracy                           0.75       667\n",
      "   macro avg       0.63      0.73      0.64       667\n",
      "weighted avg       0.85      0.75      0.78       667\n",
      "\n"
     ]
    }
   ],
   "source": [
    "# Classification report\n",
    "print(\"\\nClassification Report:\\n\", classification_report(y_test, y_pred_knn))"
   ]
  },
  {
   "cell_type": "markdown",
   "id": "9731b5af",
   "metadata": {},
   "source": [
    "The K-Nearest Neighbors model demonstrates a performance almost identical to our initial Logistic Regression baseline. When it predicts a customer will churn, it is only correct 33% of the time. This means 2 out of every 3 alarms are false alarms, making it highly inefficient for targeted campaigns. The model successfully catches 69% of all customers who did churn."
   ]
  },
  {
   "cell_type": "markdown",
   "id": "c20c110d",
   "metadata": {},
   "source": [
    "Visualize the confusion matrix"
   ]
  },
  {
   "cell_type": "code",
   "execution_count": 56,
   "id": "2f33ea22",
   "metadata": {},
   "outputs": [
    {
     "data": {
      "image/png": "[encoded data removed]",
      "text/plain": [
       "<Figure size 432x288 with 2 Axes>"
      ]
     },
     "metadata": {
      "needs_background": "light"
     },
     "output_type": "display_data"
    }
   ],
   "source": [
    "# Confusion Matrix\n",
    "knn_cm = confusion_matrix(y_test, y_pred_knn)\n",
    "disp = ConfusionMatrixDisplay(confusion_matrix = knn_cm, display_labels = knn_model.classes_)\n",
    "disp.plot(cmap = plt.cm.Blues);"
   ]
  },
  {
   "cell_type": "markdown",
   "id": "44174227",
   "metadata": {},
   "source": [
    "Top-left (433) True Negatives - Customers who did not churn and model predicted not churn.\n",
    "\n",
    "Top-right (137) False Positives - Customers who did not churn but model predicted churn.\n",
    "\n",
    "Bottom-left (30) False Negatives - Customers who actually churned but model predicted not churn.\n",
    "\n",
    "Bottom-right (67) True Positives - Customers who churned and model correctly predicted churn."
   ]
  },
  {
   "cell_type": "markdown",
   "id": "6947f7ae",
   "metadata": {},
   "source": [
    "## 5.0 EVALUATION"
   ]
  },
  {
   "cell_type": "markdown",
   "id": "9e8e9bbf",
   "metadata": {},
   "source": [
    "We assess how well each model performs against the others and determine which one best meets the core business objective to accurately identify customers at high risk of churning so that proactive retention strategies can be implemented efficiently.\n"
   ]
  },
  {
   "cell_type": "markdown",
   "id": "08f3675f",
   "metadata": {},
   "source": [
    "### 5.1 Model comparison on Key metrics"
   ]
  },
  {
   "cell_type": "markdown",
   "id": "efe8ab45",
   "metadata": {},
   "source": [
    " Accuracy alone is misleading due to the class imbalance therefore, we focus on Precision, Recall, and the F1-Score for the positive class, as these directly measure the effectiveness of a retention."
   ]
  },
  {
   "cell_type": "code",
   "execution_count": 57,
   "id": "43914b9c",
   "metadata": {},
   "outputs": [
    {
     "name": "stdout",
     "output_type": "stream",
     "text": [
      "                 Model  Accuracy  Precision  Recall  F1-Score\n",
      "0  Logistic Regression     74.96      32.84   69.07     44.52\n",
      "1        Random Forest     91.90      75.90   64.95     70.00\n",
      "2        Decision Tree     85.31      49.59   61.86     55.05\n",
      "3                  KNN     74.96      32.84   69.07     44.52\n"
     ]
    }
   ],
   "source": [
    "# Evaluate the models based on key metrics\n",
    "models = {\n",
    "    \"Logistic Regression\": logistic_model,\n",
    "    \"Random Forest\": rf_model,\n",
    "    \"Decision Tree\": dt_model,\n",
    "    \"KNN\": knn_model\n",
    "}\n",
    "\n",
    "# Evaluate models\n",
    "results = []\n",
    "for name, model in models.items():\n",
    "    y_pred = model.predict(X_test_full)  \n",
    "    results.append([name,\n",
    "        round(accuracy_score(y_test, y_pred) * 100, 2),\n",
    "        round(precision_score(y_test, y_pred) * 100, 2),\n",
    "        round(recall_score(y_test, y_pred) * 100, 2),\n",
    "        round(f1_score(y_test, y_pred) * 100, 2)])\n",
    "\n",
    "# Put into DataFrame\n",
    "results_df = pd.DataFrame(results, columns = [\"Model\", \"Accuracy\", \"Precision\", \"Recall\", \"F1-Score\"])\n",
    "print(results_df)"
   ]
  },
  {
   "cell_type": "code",
   "execution_count": 58,
   "id": "9ecd5de7",
   "metadata": {},
   "outputs": [
    {
     "data": {
      "image/png": "[encoded data removed]",
      "text/plain": [
       "<Figure size 720x432 with 1 Axes>"
      ]
     },
     "metadata": {
      "needs_background": "light"
     },
     "output_type": "display_data"
    }
   ],
   "source": [
    "# Visualize the model performance\n",
    "import matplotlib.pyplot as plt\n",
    "results_plot = results_df.set_index(\"Model\")\n",
    "results_plot.plot(kind = \"bar\", figsize = (10, 6))\n",
    "plt.title(\"Model Performance Comparison\")\n",
    "plt.ylabel(\"Score\")\n",
    "plt.xlabel(\"Models\")\n",
    "plt.xticks(rotation = 45)\n",
    "plt.legend(loc = \"lower right\")\n",
    "plt.savefig('Images/metrics.png', dpi=300, bbox_inches='tight')\n",
    "plt.show()"
   ]
  },
  {
   "cell_type": "markdown",
   "id": "ae3ed1f8",
   "metadata": {},
   "source": [
    "Random Forest achieved the best performance with 91.9% accuracy and an F1-score of 70%. This suggests it is the most effective model for predicting churn in our dataset. Decision Tree performed moderately, while Logistic Regression and KNN struggled with low precision, making them less suitable for deployment."
   ]
  },
  {
   "cell_type": "markdown",
   "id": "1952bd89",
   "metadata": {},
   "source": [
    "### 5.2 Model comparisons - ROC Curve"
   ]
  },
  {
   "cell_type": "markdown",
   "id": "807f37d8",
   "metadata": {},
   "source": [
    "While precision, recall, and F1-score evaluate model performance at a specific threshold, the Receiver Operating Characteristic (ROC) curve evaluates the performance across all possible classification thresholds. The Area Under the Curve (AUC) score provides a single measure of the model's ability to distinguish between classes, with a score of 1.0 representing a perfect model and 0.5 representing a model no better than random guessing."
   ]
  },
  {
   "cell_type": "code",
   "execution_count": 59,
   "id": "d2194156",
   "metadata": {},
   "outputs": [
    {
     "data": {
      "image/png": "[encoded data removed]",
      "text/plain": [
       "<Figure size 720x432 with 1 Axes>"
      ]
     },
     "metadata": {
      "needs_background": "light"
     },
     "output_type": "display_data"
    }
   ],
   "source": [
    "# Get predicted probabilities for ROC curve\n",
    "y_prob_lr = logistic_model.predict_proba(X_test_full)[:,1]\n",
    "y_prob_tree = dt_model.predict_proba(X_test_full)[:,1]\n",
    "y_prob_forest = rf_model.predict_proba(X_test_full)[:,1]\n",
    "y_prob_knn = knn_model.predict_proba(X_test_full)[:,1]\n",
    "\n",
    "# Calculate ROC curves\n",
    "fpr_lr, tpr_lr, _ = roc_curve(y_test, y_prob_lr)\n",
    "fpr_tree, tpr_tree, _ = roc_curve(y_test, y_prob_tree)\n",
    "fpr_forest, tpr_forest, _ = roc_curve(y_test, y_prob_forest)\n",
    "fpr_knn, tpr_knn, _ = roc_curve(y_test, y_prob_knn)\n",
    "\n",
    "# Plot ROC curves\n",
    "plt.figure(figsize = (10,6))\n",
    "plt.plot(fpr_lr, tpr_lr, label=f\"Logistic Regression (AUC = {roc_auc_score(y_test, y_prob_lr):.2f})\")\n",
    "plt.plot(fpr_tree, tpr_tree, label=f\"Decision Tree (AUC = {roc_auc_score(y_test, y_prob_tree):.2f})\")\n",
    "plt.plot(fpr_forest, tpr_forest, label=f\"Random Forest (AUC = {roc_auc_score(y_test, y_prob_forest):.2f})\")\n",
    "plt.plot(fpr_knn, tpr_knn, label=f\"KNN (AUC = {roc_auc_score(y_test, y_prob_knn):.2f})\")\n",
    "\n",
    "\n",
    "# Add line for random guessing\n",
    "plt.plot([0,1], [0,1], 'k--', label=\"Random Guessing\")\n",
    "\n",
    "plt.xlabel(\"False Positive Rate\")\n",
    "plt.ylabel(\"True Positive Rate\")\n",
    "plt.title(\"ROC Curve Comparison\")\n",
    "plt.legend()\n",
    "plt.savefig('Images/roc.png', dpi=300, bbox_inches='tight')\n",
    "plt.show()"
   ]
  },
  {
   "cell_type": "markdown",
   "id": "93944f33",
   "metadata": {},
   "source": [
    "A better model will have a curve that closely follows the upper-left corner, indicating high true positive rate and low false positive rate. In our case, the Random Forest classifier is the best performing model, as its ROC curve is closest to the top left and an AUC of 0.87, indicating strong discrimination between churners and non-churners."
   ]
  },
  {
   "cell_type": "markdown",
   "id": "3ea9781e",
   "metadata": {},
   "source": [
    "### 5.3 Hyperparameter Tuning of Random Forest Classifier"
   ]
  },
  {
   "cell_type": "markdown",
   "id": "f86299d1",
   "metadata": {},
   "source": [
    "To improve our Random Forest model, we used GridSearchCV with 3-fold cross-validation to try different combinations of hyperparameters and find the most effective model parameters for our dataset."
   ]
  },
  {
   "cell_type": "code",
   "execution_count": 60,
   "id": "8a8abb67",
   "metadata": {},
   "outputs": [
    {
     "name": "stdout",
     "output_type": "stream",
     "text": [
      "Fitting 3 folds for each of 16 candidates, totalling 48 fits\n"
     ]
    },
    {
     "name": "stderr",
     "output_type": "stream",
     "text": [
      "[Parallel(n_jobs=-1)]: Using backend LokyBackend with 8 concurrent workers.\n",
      "[Parallel(n_jobs=-1)]: Done  25 tasks      | elapsed:   10.9s\n",
      "[Parallel(n_jobs=-1)]: Done  48 out of  48 | elapsed:   15.4s finished\n"
     ]
    },
    {
     "name": "stdout",
     "output_type": "stream",
     "text": [
      "Best Parameters: {'class_weight': 'balanced', 'max_depth': 10, 'min_samples_split': 5, 'n_estimators': 200}\n"
     ]
    }
   ],
   "source": [
    "# Define the parameter grid\n",
    "param_grid = {\n",
    "    'n_estimators': [100, 200],\n",
    "    'max_depth': [10, 20],\n",
    "    'min_samples_split': [2, 5],\n",
    "    'class_weight': ['balanced', None]}\n",
    "\n",
    "rf = RandomForestClassifier(random_state = 42) # Initialize model\n",
    "\n",
    "# Grid search with cross-validation\n",
    "rf_search = GridSearchCV(estimator = rf,param_grid = param_grid, cv = 3, scoring = \"recall\", n_jobs = -1, verbose = 2)\n",
    "\n",
    "rf_search.fit(X_train_full, y_train)  # Fit on training data\n",
    "\n",
    "# Best parameters\n",
    "print(\"Best Parameters:\", rf_search.best_params_)\n",
    "\n"
   ]
  },
  {
   "cell_type": "markdown",
   "id": "f5f74476",
   "metadata": {},
   "source": [
    "After the search completed, the output is a  set of hyperparameters that we will use to train on our final random forest model."
   ]
  },
  {
   "cell_type": "markdown",
   "id": "21072570",
   "metadata": {},
   "source": [
    "The final Random Forest model will be  trained using these hyperparameters and evaluated on the test set."
   ]
  },
  {
   "cell_type": "code",
   "execution_count": 61,
   "id": "99aa6b91",
   "metadata": {},
   "outputs": [],
   "source": [
    "# Train model\n",
    "rf_model_final = rf_search.best_estimator_\n",
    "\n",
    "# Evaluate on train & test\n",
    "y_train_pred = rf_model_final.predict(X_train_full)\n",
    "y_test_pred = rf_model_final.predict(X_test_full) \n"
   ]
  },
  {
   "cell_type": "markdown",
   "id": "1ea1ab58",
   "metadata": {},
   "source": [
    "Having optimized  our Random Forest model, we now would like to know the  features that makes a customer  churn. "
   ]
  },
  {
   "cell_type": "code",
   "execution_count": 62,
   "id": "07dd76fa",
   "metadata": {},
   "outputs": [
    {
     "data": {
      "image/png": "[encoded data removed]",
      "text/plain": [
       "<Figure size 648x360 with 1 Axes>"
      ]
     },
     "metadata": {
      "needs_background": "light"
     },
     "output_type": "display_data"
    }
   ],
   "source": [
    "Importance = pd.DataFrame({\"Importance\": rf_model.feature_importances_ * 100}, index=X_train_full.columns)\n",
    "Importance.sort_values(by=\"Importance\", axis=0, ascending=True).tail(15).plot(kind=\"barh\", color=\"r\", figsize=(9, 5))\n",
    "plt.title(\"Feature Importance Levels\")\n",
    "plt.savefig('Images/features.png', dpi=300, bbox_inches='tight')\n",
    "plt.show()"
   ]
  },
  {
   "cell_type": "markdown",
   "id": "d1248b04",
   "metadata": {},
   "source": [
    "The most influential features in predicting customer churn are total day charges, customer service calls, and having an international plan. These are followed by total evening charges, indicating that high usage and service interactions are key drivers of churn. Focusing on these factors can help the company target at-risk customers effectively."
   ]
  },
  {
   "cell_type": "code",
   "execution_count": 63,
   "id": "03c6f116",
   "metadata": {},
   "outputs": [
    {
     "name": "stdout",
     "output_type": "stream",
     "text": [
      "              precision    recall  f1-score   support\n",
      "\n",
      "       False       0.95      0.95      0.95       570\n",
      "        True       0.69      0.71      0.70        97\n",
      "\n",
      "    accuracy                           0.91       667\n",
      "   macro avg       0.82      0.83      0.82       667\n",
      "weighted avg       0.91      0.91      0.91       667\n",
      "\n"
     ]
    }
   ],
   "source": [
    "print(classification_report(y_test, y_test_pred))"
   ]
  },
  {
   "cell_type": "markdown",
   "id": "326607d9",
   "metadata": {},
   "source": [
    "The model catches 71% of churners while maintaining reasonable precision. This will save significantly more revenue for Syriatel while keeping false alarms manageable."
   ]
  },
  {
   "cell_type": "markdown",
   "id": "c39076e9",
   "metadata": {},
   "source": [
    "The optimized confusion matrix"
   ]
  },
  {
   "cell_type": "code",
   "execution_count": 64,
   "id": "c1e53025",
   "metadata": {},
   "outputs": [
    {
     "data": {
      "image/png": "[encoded data removed]",
      "text/plain": [
       "<Figure size 432x288 with 2 Axes>"
      ]
     },
     "metadata": {
      "needs_background": "light"
     },
     "output_type": "display_data"
    }
   ],
   "source": [
    "cm_rf_final = confusion_matrix(y_test, y_test_pred)\n",
    "disp = ConfusionMatrixDisplay(confusion_matrix = cm_rf_final, display_labels = rf_model_final.classes_)\n",
    "disp.plot(cmap = plt.cm.Blues);"
   ]
  },
  {
   "cell_type": "markdown",
   "id": "538a8ff5",
   "metadata": {},
   "source": [
    "Top-Left (539): True Negatives - The model correctly predicted 539 customers would not churn.\n",
    "\n",
    "Top-Right (31): False Positives - The model incorrectly predicted 31 customers would churn when they actually did not.\n",
    "\n",
    "Bottom-Left (28): False Negatives - The model incorrectly predicted 28 customers would not churn when they actually did.\n",
    "\n",
    "Bottom-Right (69): True Positives - The model correctly predicted 69 customers would churn."
   ]
  },
  {
   "cell_type": "markdown",
   "id": "2d47da2a",
   "metadata": {},
   "source": [
    "### 5.4 Findings and Recommendations"
   ]
  },
  {
   "cell_type": "markdown",
   "id": "58290e86",
   "metadata": {},
   "source": [
    "This analysis has yielded several critical findings about the drivers of customer churn and the performance of predictive models. The following recommendations are designed to translate these data-driven insights into actionable business strategies."
   ]
  },
  {
   "cell_type": "markdown",
   "id": "218c0bd5",
   "metadata": {},
   "source": [
    "**Key Findings**\n",
    "1. Model Performance:\n",
    "\n",
    " - The Random Forest classifier was identified as the superior model for this task, achieving 91% accuracy and A recall of 71%. This confirms the model is not only highly accurate but also excellent at ranking customers by their risk of churning.\n",
    "\n",
    " - The Decision Tree model performed acceptably but was outperformed by Random Forest, highlighting the value of an ensemble approach.\n",
    "\n",
    " - Logistic Regression and K-Nearest Neighbor, while the least accurate, provided quickly interpretable coefficients that reinforced the key drivers found by the more complex model, adding confidence to our conclusions.\n",
    "\n",
    "2. Customer behaviour Insights:\n",
    "\n",
    " - Total Day Charge: The strongest predictor, indicating that customers with higher daytime calling costs are at significantly greater risk.\n",
    "\n",
    " - Number of Customer Service Calls: A very strong indicator, directly correlating customer frustration and problem escalation with a higher likelihood to churn.\n",
    "\n",
    " - International Plan Subscription: Customers with an international plan are a high-risk segment.\n",
    "\n",
    " - Total Eve Charge: A contributing factor to  churn risk."
   ]
  },
  {
   "cell_type": "markdown",
   "id": "ad6c3021",
   "metadata": {},
   "source": [
    "**Recommendations**"
   ]
  },
  {
   "cell_type": "markdown",
   "id": "0898240c",
   "metadata": {},
   "source": [
    "Based on these findings, we propose the following data-driven strategies:\n",
    "\n",
    "1. Deploy the Random Forest Model: Its high accuracy and recall ensures reliable predictions. This allows the retention team to prioritize customers with the highest risk scores.\n",
    "\n",
    "2. Offer loyalty discounts or personalized plan reviews to high spending customers to ensure they feel they are receiving value.\n",
    "\n",
    "3. Customer Service Improvement: Focus on customers who contact customer service often. Provide better training for agents and faster issue resolution.\n",
    "\n",
    "4. For International Plan Subscribers, conduct a competitive analysis of international plans. Proactively communicate with these customers to ensure plan satisfaction and consider value-added perks.\n",
    "\n"
   ]
  },
  {
   "cell_type": "markdown",
   "id": "fc8e1184",
   "metadata": {},
   "source": [
    "**Limitations & Future Work**\n",
    "\n",
    "1. Data imbalance: Despite using SMOTE and class weights, the dataset still had fewer churn cases than non-churn, which can limit model generalization.\n",
    "\n",
    "2. Feature limitations: The dataset did not include customer demographics e.g age, income that could provide a deeper understanding of churn behavior.\n",
    "\n",
    "3. Model deployment: The project remains at the analysis stage; deploying the model in a real-time environment would be the next practical step."
   ]
  },
  {
   "cell_type": "markdown",
   "id": "02a449a2",
   "metadata": {},
   "source": [
    "**Next Steps:**\n",
    "\n",
    "1. Deploy the Random Forest model into Syriatel’s  system for real-time churn prediction.\n",
    "\n",
    "2. Use model insights to personalize offers and promotions.\n",
    "\n",
    "3. Track the effectiveness of retention strategies and refine them based on customer feedback and model updates."
   ]
  },
  {
   "cell_type": "markdown",
   "id": "bb9ffe6a",
   "metadata": {},
   "source": [
    "## Conclusion\n",
    "\n",
    "This project analyzed the SyriaTel customer churn dataset to understand factors driving customer churn and to build a predictive model. After conducting data cleaning and exploratory analysis, key patterns and relationships were identified in usage and service features. A Random Forest classifier was developed and optimized using GridSearchCV, achieving 91% accuracy and a recall of 0.71. Feature importance analysis highlighted Total Day Charges, Customer Service Calls and International Plan as the main drivers of churn. The model reliably identifies most at-risk customers, enabling targeted retention efforts that can reduce revenue loss. Overall, this analysis provides actionable insights and a robust predictive tool to guide business strategies for customer retention.\n"
   ]
  }
 ],
 "metadata": {
  "kernelspec": {
   "display_name": "Python 3",
   "language": "python",
   "name": "python3"
  },
  "language_info": {
   "codemirror_mode": {
    "name": "ipython",
    "version": 3
   },
   "file_extension": ".py",
   "mimetype": "text/x-python",
   "name": "python",
   "nbconvert_exporter": "python",
   "pygments_lexer": "ipython3",
   "version": "3.8.5"
  }
 },
 "nbformat": 4,
 "nbformat_minor": 5
}
